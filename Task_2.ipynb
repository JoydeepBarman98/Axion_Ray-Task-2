{
 "cells": [
  {
   "cell_type": "code",
   "execution_count": null,
   "id": "fb354be9-1704-47f3-983a-ec225a11abe4",
   "metadata": {},
   "outputs": [],
   "source": [
    "# This dataset contains 52 columns each column provides information related vehicle repairs, transaction and customer feedback. "
   ]
  },
  {
   "cell_type": "code",
   "execution_count": null,
   "id": "016b1bb4-0f9a-4000-8bee-7915ad96efff",
   "metadata": {},
   "outputs": [],
   "source": []
  },
  {
   "cell_type": "code",
   "execution_count": 1,
   "id": "8a433c95-2fff-4652-bd70-5f7cd8b3a23e",
   "metadata": {},
   "outputs": [],
   "source": [
    "# Importing required Libraries\n",
    "import numpy as np \n",
    "import pandas as pd\n",
    "import matplotlib.pyplot as plt\n",
    "import seaborn as sns "
   ]
  },
  {
   "cell_type": "code",
   "execution_count": 2,
   "id": "b6f2b6d5-e18c-4e5f-b881-803b77cd85b7",
   "metadata": {},
   "outputs": [],
   "source": [
    "# Load the dataset\n",
    "df=pd.read_excel('Data_Task.xlsx')"
   ]
  },
  {
   "cell_type": "code",
   "execution_count": 3,
   "id": "eb25f972-e71a-4cde-b2d3-6f5a06ee2642",
   "metadata": {},
   "outputs": [
    {
     "data": {
      "text/html": [
       "<div>\n",
       "<style scoped>\n",
       "    .dataframe tbody tr th:only-of-type {\n",
       "        vertical-align: middle;\n",
       "    }\n",
       "\n",
       "    .dataframe tbody tr th {\n",
       "        vertical-align: top;\n",
       "    }\n",
       "\n",
       "    .dataframe thead th {\n",
       "        text-align: right;\n",
       "    }\n",
       "</style>\n",
       "<table border=\"1\" class=\"dataframe\">\n",
       "  <thead>\n",
       "    <tr style=\"text-align: right;\">\n",
       "      <th></th>\n",
       "      <th>VIN</th>\n",
       "      <th>TRANSACTION_ID</th>\n",
       "      <th>CORRECTION_VERBATIM</th>\n",
       "      <th>CUSTOMER_VERBATIM</th>\n",
       "      <th>REPAIR_DATE</th>\n",
       "      <th>CAUSAL_PART_NM</th>\n",
       "      <th>GLOBAL_LABOR_CODE_DESCRIPTION</th>\n",
       "      <th>PLATFORM</th>\n",
       "      <th>BODY_STYLE</th>\n",
       "      <th>VPPC</th>\n",
       "      <th>...</th>\n",
       "      <th>TRANSMISSION_TRACE_NBR</th>\n",
       "      <th>SRC_TXN_ID</th>\n",
       "      <th>SRC_VER_NBR</th>\n",
       "      <th>TRANSACTION_CNTR</th>\n",
       "      <th>MEDIA_FLAG</th>\n",
       "      <th>VIN_MODL_DESGTR</th>\n",
       "      <th>LINE_SERIES</th>\n",
       "      <th>LAST_KNOWN_DELVRY_TYPE_CD</th>\n",
       "      <th>NON_CAUSAL_PART_QTY</th>\n",
       "      <th>SALES_REGION_CODE</th>\n",
       "    </tr>\n",
       "  </thead>\n",
       "  <tbody>\n",
       "    <tr>\n",
       "      <th>0</th>\n",
       "      <td>3HCFDDE89SH220903</td>\n",
       "      <td>13021</td>\n",
       "      <td>REPLACED STEERING WHEEL NOW OKAY</td>\n",
       "      <td>STEERING WHEEL COMING APART</td>\n",
       "      <td>2024-01-02</td>\n",
       "      <td>WHEEL ASM-STRG *JET BLACK</td>\n",
       "      <td>Steering Wheel Replacement</td>\n",
       "      <td>Full-Size Trucks</td>\n",
       "      <td>Crew Cab</td>\n",
       "      <td>T1CCF</td>\n",
       "      <td>...</td>\n",
       "      <td>S2210121CNJX0941</td>\n",
       "      <td>2808908219</td>\n",
       "      <td>6</td>\n",
       "      <td>1</td>\n",
       "      <td>N</td>\n",
       "      <td>CF10543</td>\n",
       "      <td>1500</td>\n",
       "      <td>21.0</td>\n",
       "      <td>0</td>\n",
       "      <td>1</td>\n",
       "    </tr>\n",
       "    <tr>\n",
       "      <th>1</th>\n",
       "      <td>1HRFFEE8XSZ230636</td>\n",
       "      <td>13028</td>\n",
       "      <td>CHECKED - FOUND DTC'S U0229 - U1530 SET IN BCM...</td>\n",
       "      <td>CUSTOMER STATES HEATED STEERING WHEEL INOP</td>\n",
       "      <td>2024-01-03</td>\n",
       "      <td>MODULE ASM-STRG WHL HT CONT</td>\n",
       "      <td>Heated Steering Wheel Module Replacement</td>\n",
       "      <td>Full-Size Trucks</td>\n",
       "      <td>Crew Cab</td>\n",
       "      <td>T1CGF</td>\n",
       "      <td>...</td>\n",
       "      <td>R2210881CNJX0287</td>\n",
       "      <td>2808841910</td>\n",
       "      <td>6</td>\n",
       "      <td>1</td>\n",
       "      <td>Y</td>\n",
       "      <td>TF10543</td>\n",
       "      <td>1500</td>\n",
       "      <td>10.0</td>\n",
       "      <td>0</td>\n",
       "      <td>1</td>\n",
       "    </tr>\n",
       "    <tr>\n",
       "      <th>2</th>\n",
       "      <td>1HYKSMRK6SZ000990</td>\n",
       "      <td>13035</td>\n",
       "      <td>APPROVED 4.9(OLH) FOR ADDED DIAGNOSTICS WITH T...</td>\n",
       "      <td>OWNER REPORTS: THE SUPER CRUISE BAR ON THE STE...</td>\n",
       "      <td>2024-01-04</td>\n",
       "      <td>WHEEL ASM-STRG *BACKEN BLACKK</td>\n",
       "      <td>Steering Wheel Replacement</td>\n",
       "      <td>BEV</td>\n",
       "      <td>4 Door Utility</td>\n",
       "      <td>L233-LSOP</td>\n",
       "      <td>...</td>\n",
       "      <td>NaN</td>\n",
       "      <td>2809979441</td>\n",
       "      <td>4</td>\n",
       "      <td>1</td>\n",
       "      <td>Y</td>\n",
       "      <td>6MB26</td>\n",
       "      <td>Lux-1</td>\n",
       "      <td>10.0</td>\n",
       "      <td>0</td>\n",
       "      <td>1</td>\n",
       "    </tr>\n",
       "    <tr>\n",
       "      <th>3</th>\n",
       "      <td>3HCFDFEL3SH241701</td>\n",
       "      <td>13021</td>\n",
       "      <td>STEERING WHEEL REPLACEMENT</td>\n",
       "      <td>CUSTOMER STATES THE LETTERING AND FINISH ON TH...</td>\n",
       "      <td>2024-01-04</td>\n",
       "      <td>WHEEL ASM-STRG *JET BLACK</td>\n",
       "      <td>Steering Wheel Replacement</td>\n",
       "      <td>Full-Size Trucks</td>\n",
       "      <td>Crew Cab</td>\n",
       "      <td>T1CCF</td>\n",
       "      <td>...</td>\n",
       "      <td>S1210822CKJX0291</td>\n",
       "      <td>2808892288</td>\n",
       "      <td>6</td>\n",
       "      <td>1</td>\n",
       "      <td>Y</td>\n",
       "      <td>CF10543</td>\n",
       "      <td>1500</td>\n",
       "      <td>10.0</td>\n",
       "      <td>0</td>\n",
       "      <td>1</td>\n",
       "    </tr>\n",
       "    <tr>\n",
       "      <th>4</th>\n",
       "      <td>1HRFFHEL1RZ181474</td>\n",
       "      <td>13021</td>\n",
       "      <td>REPLACED STEERING MESSAGE NO LONGER DISPLAYED</td>\n",
       "      <td>C/S: CUSTOMER STATES THE SERVICE DRIVER ASSIST...</td>\n",
       "      <td>2024-01-05</td>\n",
       "      <td>WHEEL ASM-STRG *JET BLACK</td>\n",
       "      <td>Steering Wheel Replacement</td>\n",
       "      <td>Full-Size Trucks</td>\n",
       "      <td>Crew Cab</td>\n",
       "      <td>T1CGF</td>\n",
       "      <td>...</td>\n",
       "      <td>R2212982CKJX0282</td>\n",
       "      <td>2808901882</td>\n",
       "      <td>8</td>\n",
       "      <td>1</td>\n",
       "      <td>N</td>\n",
       "      <td>TF10543</td>\n",
       "      <td>1500</td>\n",
       "      <td>10.0</td>\n",
       "      <td>0</td>\n",
       "      <td>1</td>\n",
       "    </tr>\n",
       "    <tr>\n",
       "      <th>...</th>\n",
       "      <td>...</td>\n",
       "      <td>...</td>\n",
       "      <td>...</td>\n",
       "      <td>...</td>\n",
       "      <td>...</td>\n",
       "      <td>...</td>\n",
       "      <td>...</td>\n",
       "      <td>...</td>\n",
       "      <td>...</td>\n",
       "      <td>...</td>\n",
       "      <td>...</td>\n",
       "      <td>...</td>\n",
       "      <td>...</td>\n",
       "      <td>...</td>\n",
       "      <td>...</td>\n",
       "      <td>...</td>\n",
       "      <td>...</td>\n",
       "      <td>...</td>\n",
       "      <td>...</td>\n",
       "      <td>...</td>\n",
       "      <td>...</td>\n",
       "    </tr>\n",
       "    <tr>\n",
       "      <th>95</th>\n",
       "      <td>1HYKNHRS6MZ221833</td>\n",
       "      <td>13041</td>\n",
       "      <td>REPLACED STEERING WHEEL COMPLETEDLOP 0130 TIME .4</td>\n",
       "      <td>CUSTOMER STATES that the steering is very tigh...</td>\n",
       "      <td>2024-02-07</td>\n",
       "      <td>WHEEL ASM-STRG *BLACK</td>\n",
       "      <td>Steering Wheel Replacement</td>\n",
       "      <td>Global Crossover Vehicles</td>\n",
       "      <td>4 Door Utility</td>\n",
       "      <td>C1UL</td>\n",
       "      <td>...</td>\n",
       "      <td>22222280KKBP0890</td>\n",
       "      <td>2820784987</td>\n",
       "      <td>4</td>\n",
       "      <td>1</td>\n",
       "      <td>Y</td>\n",
       "      <td>6NJ26</td>\n",
       "      <td>Sport</td>\n",
       "      <td>15.0</td>\n",
       "      <td>1</td>\n",
       "      <td>1</td>\n",
       "    </tr>\n",
       "    <tr>\n",
       "      <th>96</th>\n",
       "      <td>1HYKSSRL4SZ003381</td>\n",
       "      <td>13048</td>\n",
       "      <td>replace steering wheel</td>\n",
       "      <td>cs driver assistance warning light is coming o...</td>\n",
       "      <td>2024-02-07</td>\n",
       "      <td>WHEEL ASM-STRG *BACKEN BLACKK</td>\n",
       "      <td>Steering Wheel Replacement</td>\n",
       "      <td>BEV</td>\n",
       "      <td>4 Door Utility</td>\n",
       "      <td>L233-LSOP</td>\n",
       "      <td>...</td>\n",
       "      <td>NaN</td>\n",
       "      <td>2822282187</td>\n",
       "      <td>6</td>\n",
       "      <td>1</td>\n",
       "      <td>N</td>\n",
       "      <td>6MB26</td>\n",
       "      <td>NaN</td>\n",
       "      <td>10.0</td>\n",
       "      <td>0</td>\n",
       "      <td>1</td>\n",
       "    </tr>\n",
       "    <tr>\n",
       "      <th>97</th>\n",
       "      <td>1HKKNXLS3SZ128369</td>\n",
       "      <td>13044</td>\n",
       "      <td>REPLACE STEERING WHEEL PRA 496735300000</td>\n",
       "      <td>CUSTOMER STATESCUSTOMER STATES VEHICLE STEERIN...</td>\n",
       "      <td>2024-02-07</td>\n",
       "      <td>WHEEL ASM-STRG *BLACK</td>\n",
       "      <td>Steering Wheel Replacement</td>\n",
       "      <td>Crossover SUV</td>\n",
       "      <td>4 Door Utility</td>\n",
       "      <td>C1UG</td>\n",
       "      <td>...</td>\n",
       "      <td>21222222SKBP0119</td>\n",
       "      <td>2822042248</td>\n",
       "      <td>4</td>\n",
       "      <td>1</td>\n",
       "      <td>N</td>\n",
       "      <td>TNN26</td>\n",
       "      <td>Denali</td>\n",
       "      <td>10.0</td>\n",
       "      <td>0</td>\n",
       "      <td>1</td>\n",
       "    </tr>\n",
       "    <tr>\n",
       "      <th>98</th>\n",
       "      <td>1HC4WLE78RF260518</td>\n",
       "      <td>13045</td>\n",
       "      <td>REMOVED STEERING WHEEL AND DISASSEMBLED AND FO...</td>\n",
       "      <td>CUSTOMER STATES THERE IS CLICKING TYPE NOISE C...</td>\n",
       "      <td>2024-02-07</td>\n",
       "      <td>NaN</td>\n",
       "      <td>Steering Wheel Replacement</td>\n",
       "      <td>Full-Size Trucks</td>\n",
       "      <td>Crew Cab</td>\n",
       "      <td>T1CCH</td>\n",
       "      <td>...</td>\n",
       "      <td>Y0212811MRFX0180</td>\n",
       "      <td>2820879999</td>\n",
       "      <td>6</td>\n",
       "      <td>1</td>\n",
       "      <td>N</td>\n",
       "      <td>CC20943</td>\n",
       "      <td>2500</td>\n",
       "      <td>14.0</td>\n",
       "      <td>0</td>\n",
       "      <td>1</td>\n",
       "    </tr>\n",
       "    <tr>\n",
       "      <th>99</th>\n",
       "      <td>1HKKNXLS8MZ121378</td>\n",
       "      <td>13041</td>\n",
       "      <td>R&amp;R steering wheel for bad stitching. -returne...</td>\n",
       "      <td>11BUZ MINOR ELECTRICAL CUST STATES STITCHING C...</td>\n",
       "      <td>2024-02-07</td>\n",
       "      <td>WHEEL ASM-STRG *DARK GALVANIE</td>\n",
       "      <td>Steering Wheel Replacement</td>\n",
       "      <td>Crossover SUV</td>\n",
       "      <td>4 Door Utility</td>\n",
       "      <td>C1UG</td>\n",
       "      <td>...</td>\n",
       "      <td>22202890KKBP2894</td>\n",
       "      <td>2820727781</td>\n",
       "      <td>4</td>\n",
       "      <td>1</td>\n",
       "      <td>Y</td>\n",
       "      <td>TNN26</td>\n",
       "      <td>Denali</td>\n",
       "      <td>10.0</td>\n",
       "      <td>0</td>\n",
       "      <td>1</td>\n",
       "    </tr>\n",
       "  </tbody>\n",
       "</table>\n",
       "<p>100 rows × 52 columns</p>\n",
       "</div>"
      ],
      "text/plain": [
       "                  VIN  TRANSACTION_ID  \\\n",
       "0   3HCFDDE89SH220903           13021   \n",
       "1   1HRFFEE8XSZ230636           13028   \n",
       "2   1HYKSMRK6SZ000990           13035   \n",
       "3   3HCFDFEL3SH241701           13021   \n",
       "4   1HRFFHEL1RZ181474           13021   \n",
       "..                ...             ...   \n",
       "95  1HYKNHRS6MZ221833           13041   \n",
       "96  1HYKSSRL4SZ003381           13048   \n",
       "97  1HKKNXLS3SZ128369           13044   \n",
       "98  1HC4WLE78RF260518           13045   \n",
       "99  1HKKNXLS8MZ121378           13041   \n",
       "\n",
       "                                  CORRECTION_VERBATIM  \\\n",
       "0                    REPLACED STEERING WHEEL NOW OKAY   \n",
       "1   CHECKED - FOUND DTC'S U0229 - U1530 SET IN BCM...   \n",
       "2   APPROVED 4.9(OLH) FOR ADDED DIAGNOSTICS WITH T...   \n",
       "3                          STEERING WHEEL REPLACEMENT   \n",
       "4       REPLACED STEERING MESSAGE NO LONGER DISPLAYED   \n",
       "..                                                ...   \n",
       "95  REPLACED STEERING WHEEL COMPLETEDLOP 0130 TIME .4   \n",
       "96                             replace steering wheel   \n",
       "97            REPLACE STEERING WHEEL PRA 496735300000   \n",
       "98  REMOVED STEERING WHEEL AND DISASSEMBLED AND FO...   \n",
       "99  R&R steering wheel for bad stitching. -returne...   \n",
       "\n",
       "                                    CUSTOMER_VERBATIM REPAIR_DATE  \\\n",
       "0                         STEERING WHEEL COMING APART  2024-01-02   \n",
       "1          CUSTOMER STATES HEATED STEERING WHEEL INOP  2024-01-03   \n",
       "2   OWNER REPORTS: THE SUPER CRUISE BAR ON THE STE...  2024-01-04   \n",
       "3   CUSTOMER STATES THE LETTERING AND FINISH ON TH...  2024-01-04   \n",
       "4   C/S: CUSTOMER STATES THE SERVICE DRIVER ASSIST...  2024-01-05   \n",
       "..                                                ...         ...   \n",
       "95  CUSTOMER STATES that the steering is very tigh...  2024-02-07   \n",
       "96  cs driver assistance warning light is coming o...  2024-02-07   \n",
       "97  CUSTOMER STATESCUSTOMER STATES VEHICLE STEERIN...  2024-02-07   \n",
       "98  CUSTOMER STATES THERE IS CLICKING TYPE NOISE C...  2024-02-07   \n",
       "99  11BUZ MINOR ELECTRICAL CUST STATES STITCHING C...  2024-02-07   \n",
       "\n",
       "                   CAUSAL_PART_NM             GLOBAL_LABOR_CODE_DESCRIPTION  \\\n",
       "0       WHEEL ASM-STRG *JET BLACK                Steering Wheel Replacement   \n",
       "1     MODULE ASM-STRG WHL HT CONT  Heated Steering Wheel Module Replacement   \n",
       "2   WHEEL ASM-STRG *BACKEN BLACKK                Steering Wheel Replacement   \n",
       "3       WHEEL ASM-STRG *JET BLACK                Steering Wheel Replacement   \n",
       "4       WHEEL ASM-STRG *JET BLACK                Steering Wheel Replacement   \n",
       "..                            ...                                       ...   \n",
       "95          WHEEL ASM-STRG *BLACK                Steering Wheel Replacement   \n",
       "96  WHEEL ASM-STRG *BACKEN BLACKK                Steering Wheel Replacement   \n",
       "97          WHEEL ASM-STRG *BLACK                Steering Wheel Replacement   \n",
       "98                            NaN                Steering Wheel Replacement   \n",
       "99  WHEEL ASM-STRG *DARK GALVANIE                Steering Wheel Replacement   \n",
       "\n",
       "                     PLATFORM      BODY_STYLE       VPPC  ...  \\\n",
       "0            Full-Size Trucks        Crew Cab      T1CCF  ...   \n",
       "1            Full-Size Trucks        Crew Cab      T1CGF  ...   \n",
       "2                         BEV  4 Door Utility  L233-LSOP  ...   \n",
       "3            Full-Size Trucks        Crew Cab      T1CCF  ...   \n",
       "4            Full-Size Trucks        Crew Cab      T1CGF  ...   \n",
       "..                        ...             ...        ...  ...   \n",
       "95  Global Crossover Vehicles  4 Door Utility       C1UL  ...   \n",
       "96                        BEV  4 Door Utility  L233-LSOP  ...   \n",
       "97              Crossover SUV  4 Door Utility       C1UG  ...   \n",
       "98           Full-Size Trucks        Crew Cab      T1CCH  ...   \n",
       "99              Crossover SUV  4 Door Utility       C1UG  ...   \n",
       "\n",
       "   TRANSMISSION_TRACE_NBR  SRC_TXN_ID SRC_VER_NBR TRANSACTION_CNTR MEDIA_FLAG  \\\n",
       "0        S2210121CNJX0941  2808908219           6                1          N   \n",
       "1        R2210881CNJX0287  2808841910           6                1          Y   \n",
       "2                     NaN  2809979441           4                1          Y   \n",
       "3        S1210822CKJX0291  2808892288           6                1          Y   \n",
       "4        R2212982CKJX0282  2808901882           8                1          N   \n",
       "..                    ...         ...         ...              ...        ...   \n",
       "95       22222280KKBP0890  2820784987           4                1          Y   \n",
       "96                    NaN  2822282187           6                1          N   \n",
       "97       21222222SKBP0119  2822042248           4                1          N   \n",
       "98       Y0212811MRFX0180  2820879999           6                1          N   \n",
       "99       22202890KKBP2894  2820727781           4                1          Y   \n",
       "\n",
       "   VIN_MODL_DESGTR LINE_SERIES LAST_KNOWN_DELVRY_TYPE_CD  NON_CAUSAL_PART_QTY  \\\n",
       "0          CF10543        1500                      21.0                    0   \n",
       "1          TF10543        1500                      10.0                    0   \n",
       "2            6MB26       Lux-1                      10.0                    0   \n",
       "3          CF10543        1500                      10.0                    0   \n",
       "4          TF10543        1500                      10.0                    0   \n",
       "..             ...         ...                       ...                  ...   \n",
       "95           6NJ26       Sport                      15.0                    1   \n",
       "96           6MB26         NaN                      10.0                    0   \n",
       "97           TNN26      Denali                      10.0                    0   \n",
       "98         CC20943        2500                      14.0                    0   \n",
       "99           TNN26      Denali                      10.0                    0   \n",
       "\n",
       "   SALES_REGION_CODE  \n",
       "0                  1  \n",
       "1                  1  \n",
       "2                  1  \n",
       "3                  1  \n",
       "4                  1  \n",
       "..               ...  \n",
       "95                 1  \n",
       "96                 1  \n",
       "97                 1  \n",
       "98                 1  \n",
       "99                 1  \n",
       "\n",
       "[100 rows x 52 columns]"
      ]
     },
     "execution_count": 3,
     "metadata": {},
     "output_type": "execute_result"
    }
   ],
   "source": [
    "# see the data\n",
    "df"
   ]
  },
  {
   "cell_type": "code",
   "execution_count": 4,
   "id": "6f24f369-4f8f-4b15-b2a7-f55280b4479d",
   "metadata": {},
   "outputs": [
    {
     "data": {
      "text/html": [
       "<div>\n",
       "<style scoped>\n",
       "    .dataframe tbody tr th:only-of-type {\n",
       "        vertical-align: middle;\n",
       "    }\n",
       "\n",
       "    .dataframe tbody tr th {\n",
       "        vertical-align: top;\n",
       "    }\n",
       "\n",
       "    .dataframe thead th {\n",
       "        text-align: right;\n",
       "    }\n",
       "</style>\n",
       "<table border=\"1\" class=\"dataframe\">\n",
       "  <thead>\n",
       "    <tr style=\"text-align: right;\">\n",
       "      <th></th>\n",
       "      <th>VIN</th>\n",
       "      <th>TRANSACTION_ID</th>\n",
       "      <th>CORRECTION_VERBATIM</th>\n",
       "      <th>CUSTOMER_VERBATIM</th>\n",
       "      <th>REPAIR_DATE</th>\n",
       "      <th>CAUSAL_PART_NM</th>\n",
       "      <th>GLOBAL_LABOR_CODE_DESCRIPTION</th>\n",
       "      <th>PLATFORM</th>\n",
       "      <th>BODY_STYLE</th>\n",
       "      <th>VPPC</th>\n",
       "      <th>...</th>\n",
       "      <th>TRANSMISSION_TRACE_NBR</th>\n",
       "      <th>SRC_TXN_ID</th>\n",
       "      <th>SRC_VER_NBR</th>\n",
       "      <th>TRANSACTION_CNTR</th>\n",
       "      <th>MEDIA_FLAG</th>\n",
       "      <th>VIN_MODL_DESGTR</th>\n",
       "      <th>LINE_SERIES</th>\n",
       "      <th>LAST_KNOWN_DELVRY_TYPE_CD</th>\n",
       "      <th>NON_CAUSAL_PART_QTY</th>\n",
       "      <th>SALES_REGION_CODE</th>\n",
       "    </tr>\n",
       "  </thead>\n",
       "  <tbody>\n",
       "    <tr>\n",
       "      <th>0</th>\n",
       "      <td>3HCFDDE89SH220903</td>\n",
       "      <td>13021</td>\n",
       "      <td>REPLACED STEERING WHEEL NOW OKAY</td>\n",
       "      <td>STEERING WHEEL COMING APART</td>\n",
       "      <td>2024-01-02</td>\n",
       "      <td>WHEEL ASM-STRG *JET BLACK</td>\n",
       "      <td>Steering Wheel Replacement</td>\n",
       "      <td>Full-Size Trucks</td>\n",
       "      <td>Crew Cab</td>\n",
       "      <td>T1CCF</td>\n",
       "      <td>...</td>\n",
       "      <td>S2210121CNJX0941</td>\n",
       "      <td>2808908219</td>\n",
       "      <td>6</td>\n",
       "      <td>1</td>\n",
       "      <td>N</td>\n",
       "      <td>CF10543</td>\n",
       "      <td>1500</td>\n",
       "      <td>21.0</td>\n",
       "      <td>0</td>\n",
       "      <td>1</td>\n",
       "    </tr>\n",
       "    <tr>\n",
       "      <th>1</th>\n",
       "      <td>1HRFFEE8XSZ230636</td>\n",
       "      <td>13028</td>\n",
       "      <td>CHECKED - FOUND DTC'S U0229 - U1530 SET IN BCM...</td>\n",
       "      <td>CUSTOMER STATES HEATED STEERING WHEEL INOP</td>\n",
       "      <td>2024-01-03</td>\n",
       "      <td>MODULE ASM-STRG WHL HT CONT</td>\n",
       "      <td>Heated Steering Wheel Module Replacement</td>\n",
       "      <td>Full-Size Trucks</td>\n",
       "      <td>Crew Cab</td>\n",
       "      <td>T1CGF</td>\n",
       "      <td>...</td>\n",
       "      <td>R2210881CNJX0287</td>\n",
       "      <td>2808841910</td>\n",
       "      <td>6</td>\n",
       "      <td>1</td>\n",
       "      <td>Y</td>\n",
       "      <td>TF10543</td>\n",
       "      <td>1500</td>\n",
       "      <td>10.0</td>\n",
       "      <td>0</td>\n",
       "      <td>1</td>\n",
       "    </tr>\n",
       "    <tr>\n",
       "      <th>2</th>\n",
       "      <td>1HYKSMRK6SZ000990</td>\n",
       "      <td>13035</td>\n",
       "      <td>APPROVED 4.9(OLH) FOR ADDED DIAGNOSTICS WITH T...</td>\n",
       "      <td>OWNER REPORTS: THE SUPER CRUISE BAR ON THE STE...</td>\n",
       "      <td>2024-01-04</td>\n",
       "      <td>WHEEL ASM-STRG *BACKEN BLACKK</td>\n",
       "      <td>Steering Wheel Replacement</td>\n",
       "      <td>BEV</td>\n",
       "      <td>4 Door Utility</td>\n",
       "      <td>L233-LSOP</td>\n",
       "      <td>...</td>\n",
       "      <td>NaN</td>\n",
       "      <td>2809979441</td>\n",
       "      <td>4</td>\n",
       "      <td>1</td>\n",
       "      <td>Y</td>\n",
       "      <td>6MB26</td>\n",
       "      <td>Lux-1</td>\n",
       "      <td>10.0</td>\n",
       "      <td>0</td>\n",
       "      <td>1</td>\n",
       "    </tr>\n",
       "    <tr>\n",
       "      <th>3</th>\n",
       "      <td>3HCFDFEL3SH241701</td>\n",
       "      <td>13021</td>\n",
       "      <td>STEERING WHEEL REPLACEMENT</td>\n",
       "      <td>CUSTOMER STATES THE LETTERING AND FINISH ON TH...</td>\n",
       "      <td>2024-01-04</td>\n",
       "      <td>WHEEL ASM-STRG *JET BLACK</td>\n",
       "      <td>Steering Wheel Replacement</td>\n",
       "      <td>Full-Size Trucks</td>\n",
       "      <td>Crew Cab</td>\n",
       "      <td>T1CCF</td>\n",
       "      <td>...</td>\n",
       "      <td>S1210822CKJX0291</td>\n",
       "      <td>2808892288</td>\n",
       "      <td>6</td>\n",
       "      <td>1</td>\n",
       "      <td>Y</td>\n",
       "      <td>CF10543</td>\n",
       "      <td>1500</td>\n",
       "      <td>10.0</td>\n",
       "      <td>0</td>\n",
       "      <td>1</td>\n",
       "    </tr>\n",
       "    <tr>\n",
       "      <th>4</th>\n",
       "      <td>1HRFFHEL1RZ181474</td>\n",
       "      <td>13021</td>\n",
       "      <td>REPLACED STEERING MESSAGE NO LONGER DISPLAYED</td>\n",
       "      <td>C/S: CUSTOMER STATES THE SERVICE DRIVER ASSIST...</td>\n",
       "      <td>2024-01-05</td>\n",
       "      <td>WHEEL ASM-STRG *JET BLACK</td>\n",
       "      <td>Steering Wheel Replacement</td>\n",
       "      <td>Full-Size Trucks</td>\n",
       "      <td>Crew Cab</td>\n",
       "      <td>T1CGF</td>\n",
       "      <td>...</td>\n",
       "      <td>R2212982CKJX0282</td>\n",
       "      <td>2808901882</td>\n",
       "      <td>8</td>\n",
       "      <td>1</td>\n",
       "      <td>N</td>\n",
       "      <td>TF10543</td>\n",
       "      <td>1500</td>\n",
       "      <td>10.0</td>\n",
       "      <td>0</td>\n",
       "      <td>1</td>\n",
       "    </tr>\n",
       "  </tbody>\n",
       "</table>\n",
       "<p>5 rows × 52 columns</p>\n",
       "</div>"
      ],
      "text/plain": [
       "                 VIN  TRANSACTION_ID  \\\n",
       "0  3HCFDDE89SH220903           13021   \n",
       "1  1HRFFEE8XSZ230636           13028   \n",
       "2  1HYKSMRK6SZ000990           13035   \n",
       "3  3HCFDFEL3SH241701           13021   \n",
       "4  1HRFFHEL1RZ181474           13021   \n",
       "\n",
       "                                 CORRECTION_VERBATIM  \\\n",
       "0                   REPLACED STEERING WHEEL NOW OKAY   \n",
       "1  CHECKED - FOUND DTC'S U0229 - U1530 SET IN BCM...   \n",
       "2  APPROVED 4.9(OLH) FOR ADDED DIAGNOSTICS WITH T...   \n",
       "3                         STEERING WHEEL REPLACEMENT   \n",
       "4      REPLACED STEERING MESSAGE NO LONGER DISPLAYED   \n",
       "\n",
       "                                   CUSTOMER_VERBATIM REPAIR_DATE  \\\n",
       "0                        STEERING WHEEL COMING APART  2024-01-02   \n",
       "1         CUSTOMER STATES HEATED STEERING WHEEL INOP  2024-01-03   \n",
       "2  OWNER REPORTS: THE SUPER CRUISE BAR ON THE STE...  2024-01-04   \n",
       "3  CUSTOMER STATES THE LETTERING AND FINISH ON TH...  2024-01-04   \n",
       "4  C/S: CUSTOMER STATES THE SERVICE DRIVER ASSIST...  2024-01-05   \n",
       "\n",
       "                  CAUSAL_PART_NM             GLOBAL_LABOR_CODE_DESCRIPTION  \\\n",
       "0      WHEEL ASM-STRG *JET BLACK                Steering Wheel Replacement   \n",
       "1    MODULE ASM-STRG WHL HT CONT  Heated Steering Wheel Module Replacement   \n",
       "2  WHEEL ASM-STRG *BACKEN BLACKK                Steering Wheel Replacement   \n",
       "3      WHEEL ASM-STRG *JET BLACK                Steering Wheel Replacement   \n",
       "4      WHEEL ASM-STRG *JET BLACK                Steering Wheel Replacement   \n",
       "\n",
       "           PLATFORM      BODY_STYLE       VPPC  ... TRANSMISSION_TRACE_NBR  \\\n",
       "0  Full-Size Trucks        Crew Cab      T1CCF  ...       S2210121CNJX0941   \n",
       "1  Full-Size Trucks        Crew Cab      T1CGF  ...       R2210881CNJX0287   \n",
       "2               BEV  4 Door Utility  L233-LSOP  ...                    NaN   \n",
       "3  Full-Size Trucks        Crew Cab      T1CCF  ...       S1210822CKJX0291   \n",
       "4  Full-Size Trucks        Crew Cab      T1CGF  ...       R2212982CKJX0282   \n",
       "\n",
       "   SRC_TXN_ID SRC_VER_NBR TRANSACTION_CNTR MEDIA_FLAG VIN_MODL_DESGTR  \\\n",
       "0  2808908219           6                1          N         CF10543   \n",
       "1  2808841910           6                1          Y         TF10543   \n",
       "2  2809979441           4                1          Y           6MB26   \n",
       "3  2808892288           6                1          Y         CF10543   \n",
       "4  2808901882           8                1          N         TF10543   \n",
       "\n",
       "  LINE_SERIES LAST_KNOWN_DELVRY_TYPE_CD  NON_CAUSAL_PART_QTY SALES_REGION_CODE  \n",
       "0        1500                      21.0                    0                 1  \n",
       "1        1500                      10.0                    0                 1  \n",
       "2       Lux-1                      10.0                    0                 1  \n",
       "3        1500                      10.0                    0                 1  \n",
       "4        1500                      10.0                    0                 1  \n",
       "\n",
       "[5 rows x 52 columns]"
      ]
     },
     "execution_count": 4,
     "metadata": {},
     "output_type": "execute_result"
    }
   ],
   "source": [
    "# Check the first 5 rows of the dataset\n",
    "df.head()"
   ]
  },
  {
   "cell_type": "code",
   "execution_count": 5,
   "id": "21a0b908-3a72-43ba-8872-726a3f661a65",
   "metadata": {},
   "outputs": [
    {
     "data": {
      "text/html": [
       "<div>\n",
       "<style scoped>\n",
       "    .dataframe tbody tr th:only-of-type {\n",
       "        vertical-align: middle;\n",
       "    }\n",
       "\n",
       "    .dataframe tbody tr th {\n",
       "        vertical-align: top;\n",
       "    }\n",
       "\n",
       "    .dataframe thead th {\n",
       "        text-align: right;\n",
       "    }\n",
       "</style>\n",
       "<table border=\"1\" class=\"dataframe\">\n",
       "  <thead>\n",
       "    <tr style=\"text-align: right;\">\n",
       "      <th></th>\n",
       "      <th>VIN</th>\n",
       "      <th>TRANSACTION_ID</th>\n",
       "      <th>CORRECTION_VERBATIM</th>\n",
       "      <th>CUSTOMER_VERBATIM</th>\n",
       "      <th>REPAIR_DATE</th>\n",
       "      <th>CAUSAL_PART_NM</th>\n",
       "      <th>GLOBAL_LABOR_CODE_DESCRIPTION</th>\n",
       "      <th>PLATFORM</th>\n",
       "      <th>BODY_STYLE</th>\n",
       "      <th>VPPC</th>\n",
       "      <th>...</th>\n",
       "      <th>TRANSMISSION_TRACE_NBR</th>\n",
       "      <th>SRC_TXN_ID</th>\n",
       "      <th>SRC_VER_NBR</th>\n",
       "      <th>TRANSACTION_CNTR</th>\n",
       "      <th>MEDIA_FLAG</th>\n",
       "      <th>VIN_MODL_DESGTR</th>\n",
       "      <th>LINE_SERIES</th>\n",
       "      <th>LAST_KNOWN_DELVRY_TYPE_CD</th>\n",
       "      <th>NON_CAUSAL_PART_QTY</th>\n",
       "      <th>SALES_REGION_CODE</th>\n",
       "    </tr>\n",
       "  </thead>\n",
       "  <tbody>\n",
       "    <tr>\n",
       "      <th>95</th>\n",
       "      <td>1HYKNHRS6MZ221833</td>\n",
       "      <td>13041</td>\n",
       "      <td>REPLACED STEERING WHEEL COMPLETEDLOP 0130 TIME .4</td>\n",
       "      <td>CUSTOMER STATES that the steering is very tigh...</td>\n",
       "      <td>2024-02-07</td>\n",
       "      <td>WHEEL ASM-STRG *BLACK</td>\n",
       "      <td>Steering Wheel Replacement</td>\n",
       "      <td>Global Crossover Vehicles</td>\n",
       "      <td>4 Door Utility</td>\n",
       "      <td>C1UL</td>\n",
       "      <td>...</td>\n",
       "      <td>22222280KKBP0890</td>\n",
       "      <td>2820784987</td>\n",
       "      <td>4</td>\n",
       "      <td>1</td>\n",
       "      <td>Y</td>\n",
       "      <td>6NJ26</td>\n",
       "      <td>Sport</td>\n",
       "      <td>15.0</td>\n",
       "      <td>1</td>\n",
       "      <td>1</td>\n",
       "    </tr>\n",
       "    <tr>\n",
       "      <th>96</th>\n",
       "      <td>1HYKSSRL4SZ003381</td>\n",
       "      <td>13048</td>\n",
       "      <td>replace steering wheel</td>\n",
       "      <td>cs driver assistance warning light is coming o...</td>\n",
       "      <td>2024-02-07</td>\n",
       "      <td>WHEEL ASM-STRG *BACKEN BLACKK</td>\n",
       "      <td>Steering Wheel Replacement</td>\n",
       "      <td>BEV</td>\n",
       "      <td>4 Door Utility</td>\n",
       "      <td>L233-LSOP</td>\n",
       "      <td>...</td>\n",
       "      <td>NaN</td>\n",
       "      <td>2822282187</td>\n",
       "      <td>6</td>\n",
       "      <td>1</td>\n",
       "      <td>N</td>\n",
       "      <td>6MB26</td>\n",
       "      <td>NaN</td>\n",
       "      <td>10.0</td>\n",
       "      <td>0</td>\n",
       "      <td>1</td>\n",
       "    </tr>\n",
       "    <tr>\n",
       "      <th>97</th>\n",
       "      <td>1HKKNXLS3SZ128369</td>\n",
       "      <td>13044</td>\n",
       "      <td>REPLACE STEERING WHEEL PRA 496735300000</td>\n",
       "      <td>CUSTOMER STATESCUSTOMER STATES VEHICLE STEERIN...</td>\n",
       "      <td>2024-02-07</td>\n",
       "      <td>WHEEL ASM-STRG *BLACK</td>\n",
       "      <td>Steering Wheel Replacement</td>\n",
       "      <td>Crossover SUV</td>\n",
       "      <td>4 Door Utility</td>\n",
       "      <td>C1UG</td>\n",
       "      <td>...</td>\n",
       "      <td>21222222SKBP0119</td>\n",
       "      <td>2822042248</td>\n",
       "      <td>4</td>\n",
       "      <td>1</td>\n",
       "      <td>N</td>\n",
       "      <td>TNN26</td>\n",
       "      <td>Denali</td>\n",
       "      <td>10.0</td>\n",
       "      <td>0</td>\n",
       "      <td>1</td>\n",
       "    </tr>\n",
       "    <tr>\n",
       "      <th>98</th>\n",
       "      <td>1HC4WLE78RF260518</td>\n",
       "      <td>13045</td>\n",
       "      <td>REMOVED STEERING WHEEL AND DISASSEMBLED AND FO...</td>\n",
       "      <td>CUSTOMER STATES THERE IS CLICKING TYPE NOISE C...</td>\n",
       "      <td>2024-02-07</td>\n",
       "      <td>NaN</td>\n",
       "      <td>Steering Wheel Replacement</td>\n",
       "      <td>Full-Size Trucks</td>\n",
       "      <td>Crew Cab</td>\n",
       "      <td>T1CCH</td>\n",
       "      <td>...</td>\n",
       "      <td>Y0212811MRFX0180</td>\n",
       "      <td>2820879999</td>\n",
       "      <td>6</td>\n",
       "      <td>1</td>\n",
       "      <td>N</td>\n",
       "      <td>CC20943</td>\n",
       "      <td>2500</td>\n",
       "      <td>14.0</td>\n",
       "      <td>0</td>\n",
       "      <td>1</td>\n",
       "    </tr>\n",
       "    <tr>\n",
       "      <th>99</th>\n",
       "      <td>1HKKNXLS8MZ121378</td>\n",
       "      <td>13041</td>\n",
       "      <td>R&amp;R steering wheel for bad stitching. -returne...</td>\n",
       "      <td>11BUZ MINOR ELECTRICAL CUST STATES STITCHING C...</td>\n",
       "      <td>2024-02-07</td>\n",
       "      <td>WHEEL ASM-STRG *DARK GALVANIE</td>\n",
       "      <td>Steering Wheel Replacement</td>\n",
       "      <td>Crossover SUV</td>\n",
       "      <td>4 Door Utility</td>\n",
       "      <td>C1UG</td>\n",
       "      <td>...</td>\n",
       "      <td>22202890KKBP2894</td>\n",
       "      <td>2820727781</td>\n",
       "      <td>4</td>\n",
       "      <td>1</td>\n",
       "      <td>Y</td>\n",
       "      <td>TNN26</td>\n",
       "      <td>Denali</td>\n",
       "      <td>10.0</td>\n",
       "      <td>0</td>\n",
       "      <td>1</td>\n",
       "    </tr>\n",
       "  </tbody>\n",
       "</table>\n",
       "<p>5 rows × 52 columns</p>\n",
       "</div>"
      ],
      "text/plain": [
       "                  VIN  TRANSACTION_ID  \\\n",
       "95  1HYKNHRS6MZ221833           13041   \n",
       "96  1HYKSSRL4SZ003381           13048   \n",
       "97  1HKKNXLS3SZ128369           13044   \n",
       "98  1HC4WLE78RF260518           13045   \n",
       "99  1HKKNXLS8MZ121378           13041   \n",
       "\n",
       "                                  CORRECTION_VERBATIM  \\\n",
       "95  REPLACED STEERING WHEEL COMPLETEDLOP 0130 TIME .4   \n",
       "96                             replace steering wheel   \n",
       "97            REPLACE STEERING WHEEL PRA 496735300000   \n",
       "98  REMOVED STEERING WHEEL AND DISASSEMBLED AND FO...   \n",
       "99  R&R steering wheel for bad stitching. -returne...   \n",
       "\n",
       "                                    CUSTOMER_VERBATIM REPAIR_DATE  \\\n",
       "95  CUSTOMER STATES that the steering is very tigh...  2024-02-07   \n",
       "96  cs driver assistance warning light is coming o...  2024-02-07   \n",
       "97  CUSTOMER STATESCUSTOMER STATES VEHICLE STEERIN...  2024-02-07   \n",
       "98  CUSTOMER STATES THERE IS CLICKING TYPE NOISE C...  2024-02-07   \n",
       "99  11BUZ MINOR ELECTRICAL CUST STATES STITCHING C...  2024-02-07   \n",
       "\n",
       "                   CAUSAL_PART_NM GLOBAL_LABOR_CODE_DESCRIPTION  \\\n",
       "95          WHEEL ASM-STRG *BLACK    Steering Wheel Replacement   \n",
       "96  WHEEL ASM-STRG *BACKEN BLACKK    Steering Wheel Replacement   \n",
       "97          WHEEL ASM-STRG *BLACK    Steering Wheel Replacement   \n",
       "98                            NaN    Steering Wheel Replacement   \n",
       "99  WHEEL ASM-STRG *DARK GALVANIE    Steering Wheel Replacement   \n",
       "\n",
       "                     PLATFORM      BODY_STYLE       VPPC  ...  \\\n",
       "95  Global Crossover Vehicles  4 Door Utility       C1UL  ...   \n",
       "96                        BEV  4 Door Utility  L233-LSOP  ...   \n",
       "97              Crossover SUV  4 Door Utility       C1UG  ...   \n",
       "98           Full-Size Trucks        Crew Cab      T1CCH  ...   \n",
       "99              Crossover SUV  4 Door Utility       C1UG  ...   \n",
       "\n",
       "   TRANSMISSION_TRACE_NBR  SRC_TXN_ID SRC_VER_NBR TRANSACTION_CNTR MEDIA_FLAG  \\\n",
       "95       22222280KKBP0890  2820784987           4                1          Y   \n",
       "96                    NaN  2822282187           6                1          N   \n",
       "97       21222222SKBP0119  2822042248           4                1          N   \n",
       "98       Y0212811MRFX0180  2820879999           6                1          N   \n",
       "99       22202890KKBP2894  2820727781           4                1          Y   \n",
       "\n",
       "   VIN_MODL_DESGTR LINE_SERIES LAST_KNOWN_DELVRY_TYPE_CD  NON_CAUSAL_PART_QTY  \\\n",
       "95           6NJ26       Sport                      15.0                    1   \n",
       "96           6MB26         NaN                      10.0                    0   \n",
       "97           TNN26      Denali                      10.0                    0   \n",
       "98         CC20943        2500                      14.0                    0   \n",
       "99           TNN26      Denali                      10.0                    0   \n",
       "\n",
       "   SALES_REGION_CODE  \n",
       "95                 1  \n",
       "96                 1  \n",
       "97                 1  \n",
       "98                 1  \n",
       "99                 1  \n",
       "\n",
       "[5 rows x 52 columns]"
      ]
     },
     "execution_count": 5,
     "metadata": {},
     "output_type": "execute_result"
    }
   ],
   "source": [
    "# check the last 5 rows of the dataset\n",
    "df.tail()"
   ]
  },
  {
   "cell_type": "code",
   "execution_count": 6,
   "id": "30baa34b-0b84-41cf-b219-9d6dbdbb86e7",
   "metadata": {},
   "outputs": [
    {
     "data": {
      "text/plain": [
       "(100, 52)"
      ]
     },
     "execution_count": 6,
     "metadata": {},
     "output_type": "execute_result"
    }
   ],
   "source": [
    "# Shape of the data\n",
    "df.shape"
   ]
  },
  {
   "cell_type": "markdown",
   "id": "bb0022bd-6cf6-42e2-a318-523745197eda",
   "metadata": {},
   "source": [
    "#### This dataset contains 100 rows and 52 columns"
   ]
  },
  {
   "cell_type": "code",
   "execution_count": 7,
   "id": "ca13d054-05e1-4b3b-858c-e267cb7fd160",
   "metadata": {},
   "outputs": [
    {
     "data": {
      "text/plain": [
       "Index(['VIN', 'TRANSACTION_ID', 'CORRECTION_VERBATIM', 'CUSTOMER_VERBATIM',\n",
       "       'REPAIR_DATE', 'CAUSAL_PART_NM', 'GLOBAL_LABOR_CODE_DESCRIPTION',\n",
       "       'PLATFORM', 'BODY_STYLE', 'VPPC', 'PLANT', 'BUILD_COUNTRY',\n",
       "       'LAST_KNOWN_DLR_NAME', 'LAST_KNOWN_DLR_CITY', 'REPAIRING_DEALER_CODE',\n",
       "       'DEALER_NAME', 'REPAIR_DLR_CITY', 'STATE', 'DEALER_REGION',\n",
       "       'REPAIR_DLR_POSTAL_CD', 'REPAIR_AGE', 'KM', 'COMPLAINT_CD_CSI',\n",
       "       'COMPLAINT_CD', 'VEH_TEST_GRP', 'COUNTRY_SALE_ISO',\n",
       "       'ORD_SELLING_SRC_CD', 'OPTN_FAMLY_CERTIFICATION',\n",
       "       'OPTF_FAMLY_EMISSIOF_SYSTEM', 'GLOBAL_LABOR_CODE',\n",
       "       'TRANSACTION_CATEGORY', 'CAMPAIGN_NBR', 'REPORTING_COST', 'TOTALCOST',\n",
       "       'LBRCOST', 'ENGINE', 'ENGINE_DESC', 'TRANSMISSION', 'TRANSMISSION_DESC',\n",
       "       'ENGINE_SOURCE_PLANT', 'ENGINE_TRACE_NBR', 'TRANSMISSION_SOURCE_PLANT',\n",
       "       'TRANSMISSION_TRACE_NBR', 'SRC_TXN_ID', 'SRC_VER_NBR',\n",
       "       'TRANSACTION_CNTR', 'MEDIA_FLAG', 'VIN_MODL_DESGTR', 'LINE_SERIES',\n",
       "       'LAST_KNOWN_DELVRY_TYPE_CD', 'NON_CAUSAL_PART_QTY',\n",
       "       'SALES_REGION_CODE'],\n",
       "      dtype='object')"
      ]
     },
     "execution_count": 7,
     "metadata": {},
     "output_type": "execute_result"
    }
   ],
   "source": [
    "# See all the columns \n",
    "df.columns"
   ]
  },
  {
   "cell_type": "code",
   "execution_count": 8,
   "id": "9a8c81ae-9be5-4062-82fa-2e08e2434b15",
   "metadata": {},
   "outputs": [
    {
     "data": {
      "text/plain": [
       "VIN                                      object\n",
       "TRANSACTION_ID                            int64\n",
       "CORRECTION_VERBATIM                      object\n",
       "CUSTOMER_VERBATIM                        object\n",
       "REPAIR_DATE                      datetime64[ns]\n",
       "CAUSAL_PART_NM                           object\n",
       "GLOBAL_LABOR_CODE_DESCRIPTION            object\n",
       "PLATFORM                                 object\n",
       "BODY_STYLE                               object\n",
       "VPPC                                     object\n",
       "PLANT                                    object\n",
       "BUILD_COUNTRY                            object\n",
       "LAST_KNOWN_DLR_NAME                      object\n",
       "LAST_KNOWN_DLR_CITY                      object\n",
       "REPAIRING_DEALER_CODE                    object\n",
       "DEALER_NAME                              object\n",
       "REPAIR_DLR_CITY                          object\n",
       "STATE                                    object\n",
       "DEALER_REGION                             int64\n",
       "REPAIR_DLR_POSTAL_CD                     object\n",
       "REPAIR_AGE                                int64\n",
       "KM                                        int64\n",
       "COMPLAINT_CD_CSI                          int64\n",
       "COMPLAINT_CD                             object\n",
       "VEH_TEST_GRP                             object\n",
       "COUNTRY_SALE_ISO                         object\n",
       "ORD_SELLING_SRC_CD                        int64\n",
       "OPTN_FAMLY_CERTIFICATION                 object\n",
       "OPTF_FAMLY_EMISSIOF_SYSTEM               object\n",
       "GLOBAL_LABOR_CODE                         int64\n",
       "TRANSACTION_CATEGORY                     object\n",
       "CAMPAIGN_NBR                            float64\n",
       "REPORTING_COST                          float64\n",
       "TOTALCOST                               float64\n",
       "LBRCOST                                 float64\n",
       "ENGINE                                   object\n",
       "ENGINE_DESC                              object\n",
       "TRANSMISSION                             object\n",
       "TRANSMISSION_DESC                        object\n",
       "ENGINE_SOURCE_PLANT                      object\n",
       "ENGINE_TRACE_NBR                         object\n",
       "TRANSMISSION_SOURCE_PLANT               float64\n",
       "TRANSMISSION_TRACE_NBR                   object\n",
       "SRC_TXN_ID                                int64\n",
       "SRC_VER_NBR                               int64\n",
       "TRANSACTION_CNTR                          int64\n",
       "MEDIA_FLAG                               object\n",
       "VIN_MODL_DESGTR                          object\n",
       "LINE_SERIES                              object\n",
       "LAST_KNOWN_DELVRY_TYPE_CD               float64\n",
       "NON_CAUSAL_PART_QTY                       int64\n",
       "SALES_REGION_CODE                         int64\n",
       "dtype: object"
      ]
     },
     "execution_count": 8,
     "metadata": {},
     "output_type": "execute_result"
    }
   ],
   "source": [
    "# Check the data types of each column\n",
    "df.dtypes"
   ]
  },
  {
   "cell_type": "code",
   "execution_count": 9,
   "id": "e9270e6e-9154-431d-9fb8-76af8e6ce04d",
   "metadata": {},
   "outputs": [
    {
     "data": {
      "text/plain": [
       "VIN                               98\n",
       "TRANSACTION_ID                    32\n",
       "CORRECTION_VERBATIM               93\n",
       "CUSTOMER_VERBATIM                100\n",
       "REPAIR_DATE                       29\n",
       "CAUSAL_PART_NM                    18\n",
       "GLOBAL_LABOR_CODE_DESCRIPTION      4\n",
       "PLATFORM                          11\n",
       "BODY_STYLE                         6\n",
       "VPPC                              26\n",
       "PLANT                             11\n",
       "BUILD_COUNTRY                      3\n",
       "LAST_KNOWN_DLR_NAME              100\n",
       "LAST_KNOWN_DLR_CITY               94\n",
       "REPAIRING_DEALER_CODE             95\n",
       "DEALER_NAME                      100\n",
       "REPAIR_DLR_CITY                   93\n",
       "STATE                             39\n",
       "DEALER_REGION                      2\n",
       "REPAIR_DLR_POSTAL_CD              92\n",
       "REPAIR_AGE                        35\n",
       "KM                               100\n",
       "COMPLAINT_CD_CSI                   1\n",
       "COMPLAINT_CD                       7\n",
       "VEH_TEST_GRP                      23\n",
       "COUNTRY_SALE_ISO                   6\n",
       "ORD_SELLING_SRC_CD                 7\n",
       "OPTN_FAMLY_CERTIFICATION           3\n",
       "OPTF_FAMLY_EMISSIOF_SYSTEM         8\n",
       "GLOBAL_LABOR_CODE                  4\n",
       "TRANSACTION_CATEGORY               2\n",
       "CAMPAIGN_NBR                       0\n",
       "REPORTING_COST                   100\n",
       "TOTALCOST                         94\n",
       "LBRCOST                           99\n",
       "ENGINE                            12\n",
       "ENGINE_DESC                       12\n",
       "TRANSMISSION                      19\n",
       "TRANSMISSION_DESC                 20\n",
       "ENGINE_SOURCE_PLANT                9\n",
       "ENGINE_TRACE_NBR                  88\n",
       "TRANSMISSION_SOURCE_PLANT          6\n",
       "TRANSMISSION_TRACE_NBR            88\n",
       "SRC_TXN_ID                       100\n",
       "SRC_VER_NBR                       10\n",
       "TRANSACTION_CNTR                   1\n",
       "MEDIA_FLAG                         2\n",
       "VIN_MODL_DESGTR                   41\n",
       "LINE_SERIES                       22\n",
       "LAST_KNOWN_DELVRY_TYPE_CD         11\n",
       "NON_CAUSAL_PART_QTY                2\n",
       "SALES_REGION_CODE                  2\n",
       "dtype: int64"
      ]
     },
     "execution_count": 9,
     "metadata": {},
     "output_type": "execute_result"
    }
   ],
   "source": [
    "# Contains unique values for each column\n",
    "df.nunique()"
   ]
  },
  {
   "cell_type": "code",
   "execution_count": 10,
   "id": "b65f840b-9b55-4460-a200-aa07b161eda5",
   "metadata": {},
   "outputs": [
    {
     "data": {
      "text/html": [
       "<div>\n",
       "<style scoped>\n",
       "    .dataframe tbody tr th:only-of-type {\n",
       "        vertical-align: middle;\n",
       "    }\n",
       "\n",
       "    .dataframe tbody tr th {\n",
       "        vertical-align: top;\n",
       "    }\n",
       "\n",
       "    .dataframe thead th {\n",
       "        text-align: right;\n",
       "    }\n",
       "</style>\n",
       "<table border=\"1\" class=\"dataframe\">\n",
       "  <thead>\n",
       "    <tr style=\"text-align: right;\">\n",
       "      <th></th>\n",
       "      <th>TRANSACTION_ID</th>\n",
       "      <th>REPAIR_DATE</th>\n",
       "      <th>DEALER_REGION</th>\n",
       "      <th>REPAIR_AGE</th>\n",
       "      <th>KM</th>\n",
       "      <th>COMPLAINT_CD_CSI</th>\n",
       "      <th>ORD_SELLING_SRC_CD</th>\n",
       "      <th>GLOBAL_LABOR_CODE</th>\n",
       "      <th>CAMPAIGN_NBR</th>\n",
       "      <th>REPORTING_COST</th>\n",
       "      <th>TOTALCOST</th>\n",
       "      <th>LBRCOST</th>\n",
       "      <th>TRANSMISSION_SOURCE_PLANT</th>\n",
       "      <th>SRC_TXN_ID</th>\n",
       "      <th>SRC_VER_NBR</th>\n",
       "      <th>TRANSACTION_CNTR</th>\n",
       "      <th>LAST_KNOWN_DELVRY_TYPE_CD</th>\n",
       "      <th>NON_CAUSAL_PART_QTY</th>\n",
       "      <th>SALES_REGION_CODE</th>\n",
       "    </tr>\n",
       "  </thead>\n",
       "  <tbody>\n",
       "    <tr>\n",
       "      <th>count</th>\n",
       "      <td>100.000000</td>\n",
       "      <td>100</td>\n",
       "      <td>100.00000</td>\n",
       "      <td>100.000000</td>\n",
       "      <td>100.000000</td>\n",
       "      <td>100.0</td>\n",
       "      <td>100.000000</td>\n",
       "      <td>100.000000</td>\n",
       "      <td>0.0</td>\n",
       "      <td>100.000000</td>\n",
       "      <td>94.000000</td>\n",
       "      <td>100.000000</td>\n",
       "      <td>8.800000e+01</td>\n",
       "      <td>1.000000e+02</td>\n",
       "      <td>100.000000</td>\n",
       "      <td>100.0</td>\n",
       "      <td>98.000000</td>\n",
       "      <td>100.000000</td>\n",
       "      <td>100.00000</td>\n",
       "    </tr>\n",
       "    <tr>\n",
       "      <th>mean</th>\n",
       "      <td>13036.900000</td>\n",
       "      <td>2024-01-22 07:26:24</td>\n",
       "      <td>1.09000</td>\n",
       "      <td>14.940000</td>\n",
       "      <td>24914.230000</td>\n",
       "      <td>0.0</td>\n",
       "      <td>24.590000</td>\n",
       "      <td>251.900000</td>\n",
       "      <td>NaN</td>\n",
       "      <td>531.193200</td>\n",
       "      <td>561.162128</td>\n",
       "      <td>106.344900</td>\n",
       "      <td>1.676383e+08</td>\n",
       "      <td>2.815767e+09</td>\n",
       "      <td>5.720000</td>\n",
       "      <td>1.0</td>\n",
       "      <td>14.132653</td>\n",
       "      <td>0.070000</td>\n",
       "      <td>1.09000</td>\n",
       "    </tr>\n",
       "    <tr>\n",
       "      <th>min</th>\n",
       "      <td>13021.000000</td>\n",
       "      <td>2024-01-02 00:00:00</td>\n",
       "      <td>1.00000</td>\n",
       "      <td>0.000000</td>\n",
       "      <td>3.000000</td>\n",
       "      <td>0.0</td>\n",
       "      <td>11.000000</td>\n",
       "      <td>20.000000</td>\n",
       "      <td>NaN</td>\n",
       "      <td>27.690000</td>\n",
       "      <td>27.690000</td>\n",
       "      <td>20.000000</td>\n",
       "      <td>2.878270e+05</td>\n",
       "      <td>2.808842e+09</td>\n",
       "      <td>2.000000</td>\n",
       "      <td>1.0</td>\n",
       "      <td>10.000000</td>\n",
       "      <td>0.000000</td>\n",
       "      <td>1.00000</td>\n",
       "    </tr>\n",
       "    <tr>\n",
       "      <th>25%</th>\n",
       "      <td>13027.750000</td>\n",
       "      <td>2024-01-12 00:00:00</td>\n",
       "      <td>1.00000</td>\n",
       "      <td>5.000000</td>\n",
       "      <td>8883.250000</td>\n",
       "      <td>0.0</td>\n",
       "      <td>13.000000</td>\n",
       "      <td>130.000000</td>\n",
       "      <td>NaN</td>\n",
       "      <td>305.432500</td>\n",
       "      <td>320.105000</td>\n",
       "      <td>61.855000</td>\n",
       "      <td>2.878270e+05</td>\n",
       "      <td>2.809436e+09</td>\n",
       "      <td>4.000000</td>\n",
       "      <td>1.0</td>\n",
       "      <td>10.000000</td>\n",
       "      <td>0.000000</td>\n",
       "      <td>1.00000</td>\n",
       "    </tr>\n",
       "    <tr>\n",
       "      <th>50%</th>\n",
       "      <td>13036.000000</td>\n",
       "      <td>2024-01-24 12:00:00</td>\n",
       "      <td>1.00000</td>\n",
       "      <td>12.000000</td>\n",
       "      <td>21962.000000</td>\n",
       "      <td>0.0</td>\n",
       "      <td>13.000000</td>\n",
       "      <td>130.000000</td>\n",
       "      <td>NaN</td>\n",
       "      <td>433.970000</td>\n",
       "      <td>457.225000</td>\n",
       "      <td>78.560000</td>\n",
       "      <td>8.042172e+06</td>\n",
       "      <td>2.820097e+09</td>\n",
       "      <td>4.000000</td>\n",
       "      <td>1.0</td>\n",
       "      <td>10.000000</td>\n",
       "      <td>0.000000</td>\n",
       "      <td>1.00000</td>\n",
       "    </tr>\n",
       "    <tr>\n",
       "      <th>75%</th>\n",
       "      <td>13041.250000</td>\n",
       "      <td>2024-02-01 00:00:00</td>\n",
       "      <td>1.00000</td>\n",
       "      <td>21.000000</td>\n",
       "      <td>35493.250000</td>\n",
       "      <td>0.0</td>\n",
       "      <td>48.000000</td>\n",
       "      <td>130.000000</td>\n",
       "      <td>NaN</td>\n",
       "      <td>554.062500</td>\n",
       "      <td>606.905000</td>\n",
       "      <td>108.055000</td>\n",
       "      <td>1.774929e+07</td>\n",
       "      <td>2.820880e+09</td>\n",
       "      <td>6.000000</td>\n",
       "      <td>1.0</td>\n",
       "      <td>16.000000</td>\n",
       "      <td>0.000000</td>\n",
       "      <td>1.00000</td>\n",
       "    </tr>\n",
       "    <tr>\n",
       "      <th>max</th>\n",
       "      <td>13081.000000</td>\n",
       "      <td>2024-02-07 00:00:00</td>\n",
       "      <td>4.00000</td>\n",
       "      <td>50.000000</td>\n",
       "      <td>107905.000000</td>\n",
       "      <td>0.0</td>\n",
       "      <td>72.000000</td>\n",
       "      <td>2400.000000</td>\n",
       "      <td>NaN</td>\n",
       "      <td>2457.450000</td>\n",
       "      <td>3205.450000</td>\n",
       "      <td>1012.670000</td>\n",
       "      <td>8.282984e+08</td>\n",
       "      <td>2.823000e+09</td>\n",
       "      <td>26.000000</td>\n",
       "      <td>1.0</td>\n",
       "      <td>37.000000</td>\n",
       "      <td>1.000000</td>\n",
       "      <td>4.00000</td>\n",
       "    </tr>\n",
       "    <tr>\n",
       "      <th>std</th>\n",
       "      <td>12.028166</td>\n",
       "      <td>NaN</td>\n",
       "      <td>0.51434</td>\n",
       "      <td>12.367945</td>\n",
       "      <td>20747.078206</td>\n",
       "      <td>0.0</td>\n",
       "      <td>17.822976</td>\n",
       "      <td>546.451722</td>\n",
       "      <td>NaN</td>\n",
       "      <td>411.161608</td>\n",
       "      <td>452.796836</td>\n",
       "      <td>113.223074</td>\n",
       "      <td>3.237538e+08</td>\n",
       "      <td>5.790727e+06</td>\n",
       "      <td>4.040402</td>\n",
       "      <td>0.0</td>\n",
       "      <td>6.694570</td>\n",
       "      <td>0.256432</td>\n",
       "      <td>0.51434</td>\n",
       "    </tr>\n",
       "  </tbody>\n",
       "</table>\n",
       "</div>"
      ],
      "text/plain": [
       "       TRANSACTION_ID          REPAIR_DATE  DEALER_REGION  REPAIR_AGE  \\\n",
       "count      100.000000                  100      100.00000  100.000000   \n",
       "mean     13036.900000  2024-01-22 07:26:24        1.09000   14.940000   \n",
       "min      13021.000000  2024-01-02 00:00:00        1.00000    0.000000   \n",
       "25%      13027.750000  2024-01-12 00:00:00        1.00000    5.000000   \n",
       "50%      13036.000000  2024-01-24 12:00:00        1.00000   12.000000   \n",
       "75%      13041.250000  2024-02-01 00:00:00        1.00000   21.000000   \n",
       "max      13081.000000  2024-02-07 00:00:00        4.00000   50.000000   \n",
       "std         12.028166                  NaN        0.51434   12.367945   \n",
       "\n",
       "                  KM  COMPLAINT_CD_CSI  ORD_SELLING_SRC_CD  GLOBAL_LABOR_CODE  \\\n",
       "count     100.000000             100.0          100.000000         100.000000   \n",
       "mean    24914.230000               0.0           24.590000         251.900000   \n",
       "min         3.000000               0.0           11.000000          20.000000   \n",
       "25%      8883.250000               0.0           13.000000         130.000000   \n",
       "50%     21962.000000               0.0           13.000000         130.000000   \n",
       "75%     35493.250000               0.0           48.000000         130.000000   \n",
       "max    107905.000000               0.0           72.000000        2400.000000   \n",
       "std     20747.078206               0.0           17.822976         546.451722   \n",
       "\n",
       "       CAMPAIGN_NBR  REPORTING_COST    TOTALCOST      LBRCOST  \\\n",
       "count           0.0      100.000000    94.000000   100.000000   \n",
       "mean            NaN      531.193200   561.162128   106.344900   \n",
       "min             NaN       27.690000    27.690000    20.000000   \n",
       "25%             NaN      305.432500   320.105000    61.855000   \n",
       "50%             NaN      433.970000   457.225000    78.560000   \n",
       "75%             NaN      554.062500   606.905000   108.055000   \n",
       "max             NaN     2457.450000  3205.450000  1012.670000   \n",
       "std             NaN      411.161608   452.796836   113.223074   \n",
       "\n",
       "       TRANSMISSION_SOURCE_PLANT    SRC_TXN_ID  SRC_VER_NBR  TRANSACTION_CNTR  \\\n",
       "count               8.800000e+01  1.000000e+02   100.000000             100.0   \n",
       "mean                1.676383e+08  2.815767e+09     5.720000               1.0   \n",
       "min                 2.878270e+05  2.808842e+09     2.000000               1.0   \n",
       "25%                 2.878270e+05  2.809436e+09     4.000000               1.0   \n",
       "50%                 8.042172e+06  2.820097e+09     4.000000               1.0   \n",
       "75%                 1.774929e+07  2.820880e+09     6.000000               1.0   \n",
       "max                 8.282984e+08  2.823000e+09    26.000000               1.0   \n",
       "std                 3.237538e+08  5.790727e+06     4.040402               0.0   \n",
       "\n",
       "       LAST_KNOWN_DELVRY_TYPE_CD  NON_CAUSAL_PART_QTY  SALES_REGION_CODE  \n",
       "count                  98.000000           100.000000          100.00000  \n",
       "mean                   14.132653             0.070000            1.09000  \n",
       "min                    10.000000             0.000000            1.00000  \n",
       "25%                    10.000000             0.000000            1.00000  \n",
       "50%                    10.000000             0.000000            1.00000  \n",
       "75%                    16.000000             0.000000            1.00000  \n",
       "max                    37.000000             1.000000            4.00000  \n",
       "std                     6.694570             0.256432            0.51434  "
      ]
     },
     "execution_count": 10,
     "metadata": {},
     "output_type": "execute_result"
    }
   ],
   "source": [
    "# See the statistical summary of the dataset\n",
    "df.describe()"
   ]
  },
  {
   "cell_type": "code",
   "execution_count": 11,
   "id": "39579cb7-fe8b-4907-88b6-de63e3962b44",
   "metadata": {},
   "outputs": [
    {
     "name": "stdout",
     "output_type": "stream",
     "text": [
      "<class 'pandas.core.frame.DataFrame'>\n",
      "RangeIndex: 100 entries, 0 to 99\n",
      "Data columns (total 52 columns):\n",
      " #   Column                         Non-Null Count  Dtype         \n",
      "---  ------                         --------------  -----         \n",
      " 0   VIN                            100 non-null    object        \n",
      " 1   TRANSACTION_ID                 100 non-null    int64         \n",
      " 2   CORRECTION_VERBATIM            100 non-null    object        \n",
      " 3   CUSTOMER_VERBATIM              100 non-null    object        \n",
      " 4   REPAIR_DATE                    100 non-null    datetime64[ns]\n",
      " 5   CAUSAL_PART_NM                 95 non-null     object        \n",
      " 6   GLOBAL_LABOR_CODE_DESCRIPTION  100 non-null    object        \n",
      " 7   PLATFORM                       100 non-null    object        \n",
      " 8   BODY_STYLE                     100 non-null    object        \n",
      " 9   VPPC                           100 non-null    object        \n",
      " 10  PLANT                          99 non-null     object        \n",
      " 11  BUILD_COUNTRY                  100 non-null    object        \n",
      " 12  LAST_KNOWN_DLR_NAME            100 non-null    object        \n",
      " 13  LAST_KNOWN_DLR_CITY            100 non-null    object        \n",
      " 14  REPAIRING_DEALER_CODE          100 non-null    object        \n",
      " 15  DEALER_NAME                    100 non-null    object        \n",
      " 16  REPAIR_DLR_CITY                100 non-null    object        \n",
      " 17  STATE                          98 non-null     object        \n",
      " 18  DEALER_REGION                  100 non-null    int64         \n",
      " 19  REPAIR_DLR_POSTAL_CD           98 non-null     object        \n",
      " 20  REPAIR_AGE                     100 non-null    int64         \n",
      " 21  KM                             100 non-null    int64         \n",
      " 22  COMPLAINT_CD_CSI               100 non-null    int64         \n",
      " 23  COMPLAINT_CD                   100 non-null    object        \n",
      " 24  VEH_TEST_GRP                   98 non-null     object        \n",
      " 25  COUNTRY_SALE_ISO               100 non-null    object        \n",
      " 26  ORD_SELLING_SRC_CD             100 non-null    int64         \n",
      " 27  OPTN_FAMLY_CERTIFICATION       90 non-null     object        \n",
      " 28  OPTF_FAMLY_EMISSIOF_SYSTEM     95 non-null     object        \n",
      " 29  GLOBAL_LABOR_CODE              100 non-null    int64         \n",
      " 30  TRANSACTION_CATEGORY           100 non-null    object        \n",
      " 31  CAMPAIGN_NBR                   0 non-null      float64       \n",
      " 32  REPORTING_COST                 100 non-null    float64       \n",
      " 33  TOTALCOST                      94 non-null     float64       \n",
      " 34  LBRCOST                        100 non-null    float64       \n",
      " 35  ENGINE                         100 non-null    object        \n",
      " 36  ENGINE_DESC                    100 non-null    object        \n",
      " 37  TRANSMISSION                   100 non-null    object        \n",
      " 38  TRANSMISSION_DESC              100 non-null    object        \n",
      " 39  ENGINE_SOURCE_PLANT            88 non-null     object        \n",
      " 40  ENGINE_TRACE_NBR               88 non-null     object        \n",
      " 41  TRANSMISSION_SOURCE_PLANT      88 non-null     float64       \n",
      " 42  TRANSMISSION_TRACE_NBR         88 non-null     object        \n",
      " 43  SRC_TXN_ID                     100 non-null    int64         \n",
      " 44  SRC_VER_NBR                    100 non-null    int64         \n",
      " 45  TRANSACTION_CNTR               100 non-null    int64         \n",
      " 46  MEDIA_FLAG                     100 non-null    object        \n",
      " 47  VIN_MODL_DESGTR                100 non-null    object        \n",
      " 48  LINE_SERIES                    99 non-null     object        \n",
      " 49  LAST_KNOWN_DELVRY_TYPE_CD      98 non-null     float64       \n",
      " 50  NON_CAUSAL_PART_QTY            100 non-null    int64         \n",
      " 51  SALES_REGION_CODE              100 non-null    int64         \n",
      "dtypes: datetime64[ns](1), float64(6), int64(12), object(33)\n",
      "memory usage: 40.8+ KB\n"
     ]
    }
   ],
   "source": [
    "# See all the information about the dataset\n",
    "df.info()"
   ]
  },
  {
   "cell_type": "code",
   "execution_count": 12,
   "id": "0a6c54e7-f928-4189-951a-fdc2250f485e",
   "metadata": {},
   "outputs": [
    {
     "data": {
      "text/plain": [
       "PLATFORM\n",
       "Full-Size Trucks             52\n",
       "Full-Size Utility            13\n",
       "Crossover SUV                11\n",
       "Global Crossover Vehicles     7\n",
       "Global Gamma                  7\n",
       "BEV                           5\n",
       "Luxury Car-3                  1\n",
       "Global Gamma Vehicles         1\n",
       "GLOBAL EPSILON II             1\n",
       "Alpha                         1\n",
       "Luxury Car-2                  1\n",
       "Name: count, dtype: int64"
      ]
     },
     "execution_count": 12,
     "metadata": {},
     "output_type": "execute_result"
    }
   ],
   "source": [
    "# check column wise how many value contains\n",
    "df['PLATFORM'].value_counts()"
   ]
  },
  {
   "cell_type": "code",
   "execution_count": 13,
   "id": "c4fdf8a9-fcfe-4429-977c-7f9c90a672bf",
   "metadata": {},
   "outputs": [
    {
     "data": {
      "text/plain": [
       "BODY_STYLE\n",
       "Crew Cab          50\n",
       "4 Door Utility    37\n",
       "4 Door Sedan      10\n",
       "Single Cab         1\n",
       "Extended Cab       1\n",
       "2 Door Coupe       1\n",
       "Name: count, dtype: int64"
      ]
     },
     "execution_count": 13,
     "metadata": {},
     "output_type": "execute_result"
    }
   ],
   "source": [
    "# check column wise how many value contains\n",
    "df['BODY_STYLE'].value_counts()"
   ]
  },
  {
   "cell_type": "code",
   "execution_count": 14,
   "id": "3b2fdf0b-f8c0-4a33-a5a9-324f40e6ed29",
   "metadata": {},
   "outputs": [
    {
     "data": {
      "text/plain": [
       "ENGINE\n",
       "L84    24\n",
       "L87    17\n",
       "EN0    12\n",
       "LGX    11\n",
       "L5P     9\n",
       "LM2     7\n",
       "LSY     5\n",
       "LFY     5\n",
       "LZ0     4\n",
       "L8T     4\n",
       "LUV     1\n",
       "LT1     1\n",
       "Name: count, dtype: int64"
      ]
     },
     "execution_count": 14,
     "metadata": {},
     "output_type": "execute_result"
    }
   ],
   "source": [
    "# check column wise how many value contains\n",
    "df['ENGINE'].value_counts()"
   ]
  },
  {
   "cell_type": "markdown",
   "id": "22b1a8cf-ca67-4921-8ab2-ea84d3e570d7",
   "metadata": {},
   "source": [
    "## Data Cleaning"
   ]
  },
  {
   "cell_type": "code",
   "execution_count": 15,
   "id": "1740d644-308a-496e-9442-5183f8655dd6",
   "metadata": {},
   "outputs": [
    {
     "data": {
      "text/plain": [
       "0"
      ]
     },
     "execution_count": 15,
     "metadata": {},
     "output_type": "execute_result"
    }
   ],
   "source": [
    "# Check duplicate values\n",
    "df.duplicated().sum()"
   ]
  },
  {
   "cell_type": "markdown",
   "id": "b2c76c8e-729b-4c3a-82f8-8bc6914cafe3",
   "metadata": {},
   "source": [
    "#### This dataset doesn't contain any duplicate values"
   ]
  },
  {
   "cell_type": "code",
   "execution_count": 16,
   "id": "633e3db3-1ae9-42ae-9d1a-5d61f1b224ed",
   "metadata": {},
   "outputs": [
    {
     "name": "stdout",
     "output_type": "stream",
     "text": [
      "VIN                                0\n",
      "TRANSACTION_ID                     0\n",
      "CORRECTION_VERBATIM                0\n",
      "CUSTOMER_VERBATIM                  0\n",
      "REPAIR_DATE                        0\n",
      "CAUSAL_PART_NM                     5\n",
      "GLOBAL_LABOR_CODE_DESCRIPTION      0\n",
      "PLATFORM                           0\n",
      "BODY_STYLE                         0\n",
      "VPPC                               0\n",
      "PLANT                              1\n",
      "BUILD_COUNTRY                      0\n",
      "LAST_KNOWN_DLR_NAME                0\n",
      "LAST_KNOWN_DLR_CITY                0\n",
      "REPAIRING_DEALER_CODE              0\n",
      "DEALER_NAME                        0\n",
      "REPAIR_DLR_CITY                    0\n",
      "STATE                              2\n",
      "DEALER_REGION                      0\n",
      "REPAIR_DLR_POSTAL_CD               2\n",
      "REPAIR_AGE                         0\n",
      "KM                                 0\n",
      "COMPLAINT_CD_CSI                   0\n",
      "COMPLAINT_CD                       0\n",
      "VEH_TEST_GRP                       2\n",
      "COUNTRY_SALE_ISO                   0\n",
      "ORD_SELLING_SRC_CD                 0\n",
      "OPTN_FAMLY_CERTIFICATION          10\n",
      "OPTF_FAMLY_EMISSIOF_SYSTEM         5\n",
      "GLOBAL_LABOR_CODE                  0\n",
      "TRANSACTION_CATEGORY               0\n",
      "CAMPAIGN_NBR                     100\n",
      "REPORTING_COST                     0\n",
      "TOTALCOST                          6\n",
      "LBRCOST                            0\n",
      "ENGINE                             0\n",
      "ENGINE_DESC                        0\n",
      "TRANSMISSION                       0\n",
      "TRANSMISSION_DESC                  0\n",
      "ENGINE_SOURCE_PLANT               12\n",
      "ENGINE_TRACE_NBR                  12\n",
      "TRANSMISSION_SOURCE_PLANT         12\n",
      "TRANSMISSION_TRACE_NBR            12\n",
      "SRC_TXN_ID                         0\n",
      "SRC_VER_NBR                        0\n",
      "TRANSACTION_CNTR                   0\n",
      "MEDIA_FLAG                         0\n",
      "VIN_MODL_DESGTR                    0\n",
      "LINE_SERIES                        1\n",
      "LAST_KNOWN_DELVRY_TYPE_CD          2\n",
      "NON_CAUSAL_PART_QTY                0\n",
      "SALES_REGION_CODE                  0\n",
      "dtype: int64\n"
     ]
    }
   ],
   "source": [
    "# Cheak the missing or null values\n",
    "Missing_values=df.isnull().sum()\n",
    "print(Missing_values)"
   ]
  },
  {
   "cell_type": "code",
   "execution_count": 17,
   "id": "a73f8956-310d-43aa-ae29-b78263a18e97",
   "metadata": {},
   "outputs": [
    {
     "name": "stdout",
     "output_type": "stream",
     "text": [
      "CAUSAL_PART_NM                  5\n",
      "PLANT                           1\n",
      "STATE                           2\n",
      "REPAIR_DLR_POSTAL_CD            2\n",
      "VEH_TEST_GRP                    2\n",
      "OPTN_FAMLY_CERTIFICATION       10\n",
      "OPTF_FAMLY_EMISSIOF_SYSTEM      5\n",
      "CAMPAIGN_NBR                  100\n",
      "TOTALCOST                       6\n",
      "ENGINE_SOURCE_PLANT            12\n",
      "ENGINE_TRACE_NBR               12\n",
      "TRANSMISSION_SOURCE_PLANT      12\n",
      "TRANSMISSION_TRACE_NBR         12\n",
      "LINE_SERIES                     1\n",
      "LAST_KNOWN_DELVRY_TYPE_CD       2\n",
      "dtype: int64\n"
     ]
    }
   ],
   "source": [
    "# see only null value contains columns \n",
    "print(Missing_values[Missing_values>0])"
   ]
  },
  {
   "cell_type": "code",
   "execution_count": 18,
   "id": "f55416fb-8790-455c-9405-574ead05cbb1",
   "metadata": {},
   "outputs": [
    {
     "data": {
      "image/png": "[encoded data removed]",
      "text/plain": [
       "<Figure size 640x480 with 1 Axes>"
      ]
     },
     "metadata": {},
     "output_type": "display_data"
    }
   ],
   "source": [
    "# see histogram plot to see the data distribution\n",
    "plt.hist(df['TOTALCOST'], bins=8, color='orange', edgecolor='black')\n",
    "plt.show()"
   ]
  },
  {
   "cell_type": "code",
   "execution_count": 19,
   "id": "df3435e1-e566-4221-ba1d-3febc1c6d18e",
   "metadata": {},
   "outputs": [
    {
     "data": {
      "text/plain": [
       "457.225"
      ]
     },
     "execution_count": 19,
     "metadata": {},
     "output_type": "execute_result"
    }
   ],
   "source": [
    "# see median value\n",
    "df['TOTALCOST'].median()"
   ]
  },
  {
   "cell_type": "code",
   "execution_count": 20,
   "id": "cb14880d-06e3-4a19-b925-4a28e77b53ea",
   "metadata": {},
   "outputs": [
    {
     "data": {
      "text/plain": [
       "561.1621276595744"
      ]
     },
     "execution_count": 20,
     "metadata": {},
     "output_type": "execute_result"
    }
   ],
   "source": [
    "# see mean value\n",
    "df['TOTALCOST'].mean()"
   ]
  },
  {
   "cell_type": "code",
   "execution_count": 21,
   "id": "36203de1-92dc-4f0e-9b35-64640def55b5",
   "metadata": {},
   "outputs": [],
   "source": [
    "# fill the missing values by median value \n",
    "df['TOTALCOST'] = df['TOTALCOST'].fillna(df['TOTALCOST'].median())"
   ]
  },
  {
   "cell_type": "code",
   "execution_count": 22,
   "id": "584e0091-6d65-4f6f-abda-226833b36634",
   "metadata": {},
   "outputs": [],
   "source": [
    "# Drop some unnecessary columns \n",
    "columns_to_drop = ['CAMPAIGN_NBR', 'ENGINE_SOURCE_PLANT', 'ENGINE_TRACE_NBR', \n",
    "                   'TRANSMISSION_SOURCE_PLANT', 'TRANSMISSION_TRACE_NBR']\n",
    "df = df.drop(columns=columns_to_drop, axis=1)"
   ]
  },
  {
   "cell_type": "code",
   "execution_count": 23,
   "id": "cc02dff0-6410-4df0-b04a-63cdc0eda3f5",
   "metadata": {},
   "outputs": [
    {
     "data": {
      "text/plain": [
       "(100, 47)"
      ]
     },
     "execution_count": 23,
     "metadata": {},
     "output_type": "execute_result"
    }
   ],
   "source": [
    "df.shape"
   ]
  },
  {
   "cell_type": "code",
   "execution_count": 24,
   "id": "996065a1-edd7-49f5-830d-4b6e16c3a4be",
   "metadata": {},
   "outputs": [],
   "source": [
    "# Fill missing values in categorical columns\n",
    "categorical_fill = {'CAUSAL_PART_NM': 'Unknown',\n",
    "    'PLANT': 'Unknown',\n",
    "    'STATE': 'Unknown',\n",
    "    'REPAIR_DLR_POSTAL_CD': 'Unknown',\n",
    "    'VEH_TEST_GRP': 'Unknown',\n",
    "    'LINE_SERIES': 'Unknown',\n",
    "    'LAST_KNOWN_DELVRY_TYPE_CD': 'Unknown',\n",
    "    'OPTN_FAMLY_CERTIFICATION': 'Unknown',\n",
    "    'OPTF_FAMLY_EMISSIOF_SYSTEM': 'Unknown'}\n",
    "\n",
    "df.fillna(value=categorical_fill, inplace=True)"
   ]
  },
  {
   "cell_type": "code",
   "execution_count": 25,
   "id": "9ec4364d-4e6a-4022-b50d-234178016f57",
   "metadata": {},
   "outputs": [
    {
     "data": {
      "text/plain": [
       "VIN                              0\n",
       "TRANSACTION_ID                   0\n",
       "CORRECTION_VERBATIM              0\n",
       "CUSTOMER_VERBATIM                0\n",
       "REPAIR_DATE                      0\n",
       "CAUSAL_PART_NM                   0\n",
       "GLOBAL_LABOR_CODE_DESCRIPTION    0\n",
       "PLATFORM                         0\n",
       "BODY_STYLE                       0\n",
       "VPPC                             0\n",
       "PLANT                            0\n",
       "BUILD_COUNTRY                    0\n",
       "LAST_KNOWN_DLR_NAME              0\n",
       "LAST_KNOWN_DLR_CITY              0\n",
       "REPAIRING_DEALER_CODE            0\n",
       "DEALER_NAME                      0\n",
       "REPAIR_DLR_CITY                  0\n",
       "STATE                            0\n",
       "DEALER_REGION                    0\n",
       "REPAIR_DLR_POSTAL_CD             0\n",
       "REPAIR_AGE                       0\n",
       "KM                               0\n",
       "COMPLAINT_CD_CSI                 0\n",
       "COMPLAINT_CD                     0\n",
       "VEH_TEST_GRP                     0\n",
       "COUNTRY_SALE_ISO                 0\n",
       "ORD_SELLING_SRC_CD               0\n",
       "OPTN_FAMLY_CERTIFICATION         0\n",
       "OPTF_FAMLY_EMISSIOF_SYSTEM       0\n",
       "GLOBAL_LABOR_CODE                0\n",
       "TRANSACTION_CATEGORY             0\n",
       "REPORTING_COST                   0\n",
       "TOTALCOST                        0\n",
       "LBRCOST                          0\n",
       "ENGINE                           0\n",
       "ENGINE_DESC                      0\n",
       "TRANSMISSION                     0\n",
       "TRANSMISSION_DESC                0\n",
       "SRC_TXN_ID                       0\n",
       "SRC_VER_NBR                      0\n",
       "TRANSACTION_CNTR                 0\n",
       "MEDIA_FLAG                       0\n",
       "VIN_MODL_DESGTR                  0\n",
       "LINE_SERIES                      0\n",
       "LAST_KNOWN_DELVRY_TYPE_CD        0\n",
       "NON_CAUSAL_PART_QTY              0\n",
       "SALES_REGION_CODE                0\n",
       "dtype: int64"
      ]
     },
     "execution_count": 25,
     "metadata": {},
     "output_type": "execute_result"
    }
   ],
   "source": [
    "df.isnull().sum()"
   ]
  },
  {
   "cell_type": "markdown",
   "id": "4af7e1a2-817b-4532-ac3d-a37a0b991787",
   "metadata": {},
   "source": [
    "#### Handling Outliers"
   ]
  },
  {
   "cell_type": "code",
   "execution_count": 26,
   "id": "371e2287-1447-4003-b6e1-d05749852c3a",
   "metadata": {},
   "outputs": [
    {
     "data": {
      "text/plain": [
       "<Axes: xlabel='TOTALCOST'>"
      ]
     },
     "execution_count": 26,
     "metadata": {},
     "output_type": "execute_result"
    },
    {
     "data": {
      "image/png": "[encoded data removed]",
      "text/plain": [
       "<Figure size 640x480 with 1 Axes>"
      ]
     },
     "metadata": {},
     "output_type": "display_data"
    }
   ],
   "source": [
    "# Boxplot to see the outlier value\n",
    "sns.boxplot(x=df['TOTALCOST'])"
   ]
  },
  {
   "cell_type": "code",
   "execution_count": 27,
   "id": "26c2536d-32e6-4efc-9364-cb76b8b776fd",
   "metadata": {},
   "outputs": [
    {
     "name": "stdout",
     "output_type": "stream",
     "text": [
      "Q3 572.7725\n",
      "Q1 349.94\n",
      "IQR 222.83250000000004\n",
      "upper_bound 907.0212500000001\n",
      "lower_bound 15.691249999999911\n"
     ]
    }
   ],
   "source": [
    "# Here I am using IQR to remove outliers. \n",
    "# IQR for TOTALCOST column\n",
    "Q1 = df['TOTALCOST'].quantile(0.25)\n",
    "Q3 = df['TOTALCOST'].quantile(0.75)\n",
    "print('Q3', Q3)\n",
    "print('Q1', Q1)\n",
    "IQR = Q3 - Q1\n",
    "print('IQR', IQR)\n",
    "upper_bound = Q3 + 1.5 * IQR\n",
    "lower_bound = Q1 - 1.5 * IQR\n",
    "print(\"upper_bound\",upper_bound)\n",
    "print(\"lower_bound\", lower_bound)"
   ]
  },
  {
   "cell_type": "code",
   "execution_count": 28,
   "id": "79dccc57-a2a3-40d2-b123-1593af38762a",
   "metadata": {},
   "outputs": [],
   "source": [
    "# Handle outlier values\n",
    "df=df[df.TOTALCOST<upper_bound]\n",
    "df=df[df.TOTALCOST>lower_bound]"
   ]
  },
  {
   "cell_type": "code",
   "execution_count": 29,
   "id": "19b85061-a2a4-4622-8fd6-828ce15e26b6",
   "metadata": {},
   "outputs": [
    {
     "data": {
      "text/plain": [
       "<Axes: xlabel='TOTALCOST'>"
      ]
     },
     "execution_count": 29,
     "metadata": {},
     "output_type": "execute_result"
    },
    {
     "data": {
      "image/png": "[encoded data removed]",
      "text/plain": [
       "<Figure size 640x480 with 1 Axes>"
      ]
     },
     "metadata": {},
     "output_type": "display_data"
    }
   ],
   "source": [
    "# Check outlier value\n",
    "sns.boxplot(x=df['TOTALCOST'])"
   ]
  },
  {
   "cell_type": "code",
   "execution_count": 30,
   "id": "de80b508-eca2-416a-afa5-cce68f3a5b6f",
   "metadata": {},
   "outputs": [
    {
     "data": {
      "text/plain": [
       "<Axes: xlabel='LBRCOST'>"
      ]
     },
     "execution_count": 30,
     "metadata": {},
     "output_type": "execute_result"
    },
    {
     "data": {
      "image/png": "[encoded data removed]",
      "text/plain": [
       "<Figure size 640x480 with 1 Axes>"
      ]
     },
     "metadata": {},
     "output_type": "display_data"
    }
   ],
   "source": [
    "# Check outliers by using boxplot\n",
    "sns.boxplot(x=df['LBRCOST'])"
   ]
  },
  {
   "cell_type": "code",
   "execution_count": 31,
   "id": "b73e834b-7f7f-4571-86ec-f20f8835bed7",
   "metadata": {},
   "outputs": [
    {
     "name": "stdout",
     "output_type": "stream",
     "text": [
      "Q3 100.1\n",
      "Q1 61.57\n",
      "IQR 38.529999999999994\n",
      "upper_bound 157.89499999999998\n",
      "lower_bound 3.775000000000013\n"
     ]
    }
   ],
   "source": [
    "# Here I am using IQR to remove outliers. \n",
    "# IQR for LBRCOST column\n",
    "Q1 = df['LBRCOST'].quantile(0.25)\n",
    "Q3 = df['LBRCOST'].quantile(0.75)\n",
    "print('Q3', Q3)\n",
    "print('Q1', Q1)\n",
    "IQR = Q3 - Q1\n",
    "print('IQR', IQR)\n",
    "upper_bound = Q3 + 1.5 * IQR\n",
    "lower_bound = Q1 - 1.5 * IQR\n",
    "print(\"upper_bound\",upper_bound)\n",
    "print(\"lower_bound\", lower_bound)"
   ]
  },
  {
   "cell_type": "code",
   "execution_count": 32,
   "id": "11f0c4be-2bbe-4d68-8d78-0bbd8b6dcc0d",
   "metadata": {},
   "outputs": [],
   "source": [
    "# Handling outlier values\n",
    "df = df[df.LBRCOST <upper_bound]\n",
    "df = df[df.LBRCOST >lower_bound]"
   ]
  },
  {
   "cell_type": "code",
   "execution_count": 33,
   "id": "01c5723f-63a5-4002-9e48-581c108bc3c7",
   "metadata": {},
   "outputs": [
    {
     "data": {
      "text/plain": [
       "<Axes: xlabel='LBRCOST'>"
      ]
     },
     "execution_count": 33,
     "metadata": {},
     "output_type": "execute_result"
    },
    {
     "data": {
      "image/png": "[encoded data removed]",
      "text/plain": [
       "<Figure size 640x480 with 1 Axes>"
      ]
     },
     "metadata": {},
     "output_type": "display_data"
    }
   ],
   "source": [
    "# Check outliers\n",
    "sns.boxplot(x=df['LBRCOST'])"
   ]
  },
  {
   "cell_type": "code",
   "execution_count": 34,
   "id": "e4b1af51-1663-46ab-8ae3-767d5fa95cfb",
   "metadata": {},
   "outputs": [],
   "source": [
    "# give path to load the dataset\n",
    "file_path=\"C:\\\\Users\\\\SAIKAT\\\\Downloads\\\\df.csv\""
   ]
  },
  {
   "cell_type": "code",
   "execution_count": 35,
   "id": "c463c634-15e1-44eb-84df-f55b4ca5c963",
   "metadata": {},
   "outputs": [],
   "source": [
    "# save it as a csv file\n",
    "df.to_csv(file_path, index=False)"
   ]
  },
  {
   "cell_type": "markdown",
   "id": "b7c6a07a-34d0-4a0c-b0ff-2287bda5e3b9",
   "metadata": {},
   "source": [
    "## EDA"
   ]
  },
  {
   "cell_type": "code",
   "execution_count": 36,
   "id": "0f2b45c1-4210-4278-88f0-fbac2ac4d746",
   "metadata": {},
   "outputs": [
    {
     "name": "stderr",
     "output_type": "stream",
     "text": [
      "C:\\Users\\SAIKAT\\AppData\\Local\\Temp\\ipykernel_15044\\3967758312.py:6: FutureWarning: \n",
      "\n",
      "Passing `palette` without assigning `hue` is deprecated and will be removed in v0.14.0. Assign the `x` variable to `hue` and set `legend=False` for the same effect.\n",
      "\n",
      "  sns.countplot(x='DEALER_REGION', data=df, palette='viridis')\n"
     ]
    },
    {
     "data": {
      "image/png": "[encoded data removed]",
      "text/plain": [
       "<Figure size 600x600 with 1 Axes>"
      ]
     },
     "metadata": {},
     "output_type": "display_data"
    }
   ],
   "source": [
    "# Set the style for the plot\n",
    "sns.set_style('whitegrid')\n",
    "\n",
    "# Create the bar plot\n",
    "plt.figure(figsize=(6, 6))\n",
    "sns.countplot(x='DEALER_REGION', data=df, palette='viridis')\n",
    "\n",
    "# Add titles and labels\n",
    "plt.title('Region wise vehicle')\n",
    "plt.xlabel('Region')\n",
    "plt.ylabel('Number of Vehicle')\n",
    "\n",
    "# Show the plot\n",
    "plt.show()"
   ]
  },
  {
   "cell_type": "code",
   "execution_count": 37,
   "id": "50ca11d1-2422-4e95-9fb9-30c49f9d0c55",
   "metadata": {},
   "outputs": [
    {
     "name": "stderr",
     "output_type": "stream",
     "text": [
      "C:\\Users\\SAIKAT\\AppData\\Local\\Temp\\ipykernel_15044\\85222451.py:6: FutureWarning: \n",
      "\n",
      "Passing `palette` without assigning `hue` is deprecated and will be removed in v0.14.0. Assign the `x` variable to `hue` and set `legend=False` for the same effect.\n",
      "\n",
      "  sns.countplot(x='STATE', data=df, palette='viridis')\n"
     ]
    },
    {
     "data": {
      "image/png": "[encoded data removed]",
      "text/plain": [
       "<Figure size 1600x600 with 1 Axes>"
      ]
     },
     "metadata": {},
     "output_type": "display_data"
    }
   ],
   "source": [
    "# Set the style for the plot\n",
    "sns.set_style('whitegrid')\n",
    "\n",
    "# Create the bar plot\n",
    "plt.figure(figsize=(16, 6))\n",
    "sns.countplot(x='STATE', data=df, palette='viridis')\n",
    "\n",
    "# Add titles and labels\n",
    "plt.title('State wise vehicle')\n",
    "plt.xlabel('State')\n",
    "plt.ylabel('Number of Vehicle')\n",
    "\n",
    "# Show the plot\n",
    "plt.show()"
   ]
  },
  {
   "cell_type": "code",
   "execution_count": 39,
   "id": "a7652bb0-60e7-419d-8468-2c62b75883ab",
   "metadata": {},
   "outputs": [
    {
     "name": "stderr",
     "output_type": "stream",
     "text": [
      "C:\\Users\\SAIKAT\\AppData\\Local\\Temp\\ipykernel_15044\\1814194674.py:6: FutureWarning: \n",
      "\n",
      "Passing `palette` without assigning `hue` is deprecated and will be removed in v0.14.0. Assign the `x` variable to `hue` and set `legend=False` for the same effect.\n",
      "\n",
      "  sns.countplot(x='REPAIR_AGE', data=df, palette='viridis')\n"
     ]
    },
    {
     "data": {
      "image/png": "[encoded data removed]",
      "text/plain": [
       "<Figure size 1600x600 with 1 Axes>"
      ]
     },
     "metadata": {},
     "output_type": "display_data"
    }
   ],
   "source": [
    "# Set the style for the plot\n",
    "sns.set_style('whitegrid')\n",
    "\n",
    "# Create the bar plot\n",
    "plt.figure(figsize=(16, 6))\n",
    "sns.countplot(x='REPAIR_AGE', data=df, palette='viridis')\n",
    "\n",
    "# Add titles and labels\n",
    "plt.title('Repair Age for vehicle')\n",
    "plt.xlabel('Age')\n",
    "plt.ylabel('Number of Vehicle')\n",
    "\n",
    "# Show the plot\n",
    "plt.show()"
   ]
  },
  {
   "cell_type": "code",
   "execution_count": 40,
   "id": "336afe78-24f8-45f8-9695-435649488d61",
   "metadata": {},
   "outputs": [
    {
     "name": "stderr",
     "output_type": "stream",
     "text": [
      "C:\\Users\\SAIKAT\\AppData\\Local\\Temp\\ipykernel_15044\\550972651.py:6: FutureWarning: \n",
      "\n",
      "Passing `palette` without assigning `hue` is deprecated and will be removed in v0.14.0. Assign the `x` variable to `hue` and set `legend=False` for the same effect.\n",
      "\n",
      "  sns.barplot(x='STATE', y='TOTALCOST', data=df, palette='viridis')\n"
     ]
    },
    {
     "data": {
      "image/png": "[encoded data removed]",
      "text/plain": [
       "<Figure size 1600x600 with 1 Axes>"
      ]
     },
     "metadata": {},
     "output_type": "display_data"
    }
   ],
   "source": [
    "# Set the style for the plot\n",
    "sns.set_style('whitegrid')\n",
    "\n",
    "# Create the bar plot\n",
    "plt.figure(figsize=(16, 6))\n",
    "sns.barplot(x='STATE', y='TOTALCOST', data=df, palette='viridis')\n",
    "\n",
    "# Add titles and labels\n",
    "plt.title('Total Repair Cost For each State')\n",
    "plt.xlabel('State')\n",
    "plt.ylabel('Total Repair Cost')\n",
    "\n",
    "# Show the plot\n",
    "plt.show()"
   ]
  },
  {
   "cell_type": "code",
   "execution_count": 41,
   "id": "83a40984-5636-4150-b7d1-39909d830470",
   "metadata": {},
   "outputs": [
    {
     "name": "stderr",
     "output_type": "stream",
     "text": [
      "C:\\Users\\SAIKAT\\AppData\\Local\\Temp\\ipykernel_15044\\3607822465.py:6: FutureWarning: \n",
      "\n",
      "Passing `palette` without assigning `hue` is deprecated and will be removed in v0.14.0. Assign the `x` variable to `hue` and set `legend=False` for the same effect.\n",
      "\n",
      "  sns.barplot(x='PLATFORM', y='TOTALCOST', data=df, palette='viridis')\n"
     ]
    },
    {
     "data": {
      "image/png": "[encoded data removed]",
      "text/plain": [
       "<Figure size 1600x600 with 1 Axes>"
      ]
     },
     "metadata": {},
     "output_type": "display_data"
    }
   ],
   "source": [
    "# Set the style for the plot\n",
    "sns.set_style('whitegrid')\n",
    "\n",
    "# Create the bar plot\n",
    "plt.figure(figsize=(16, 6))\n",
    "sns.barplot(x='PLATFORM', y='TOTALCOST', data=df, palette='viridis')\n",
    "\n",
    "# Add titles and labels\n",
    "plt.title('Total Repair Cost For each Model')\n",
    "plt.xlabel('Model')\n",
    "plt.ylabel('Total Repair Cost')\n",
    "\n",
    "# Show the plot\n",
    "plt.show()"
   ]
  },
  {
   "cell_type": "code",
   "execution_count": 47,
   "id": "daf94af5-3c3f-4c46-ae81-eea5d1d2db31",
   "metadata": {},
   "outputs": [
    {
     "name": "stderr",
     "output_type": "stream",
     "text": [
      "C:\\Users\\SAIKAT\\AppData\\Local\\Temp\\ipykernel_12008\\851989244.py:6: FutureWarning: \n",
      "\n",
      "Passing `palette` without assigning `hue` is deprecated and will be removed in v0.14.0. Assign the `x` variable to `hue` and set `legend=False` for the same effect.\n",
      "\n",
      "  sns.barplot(x='BODY_STYLE', y='TOTALCOST', data=df, palette='viridis')\n"
     ]
    },
    {
     "data": {
      "image/png": "[encoded data removed]",
      "text/plain": [
       "<Figure size 1600x600 with 1 Axes>"
      ]
     },
     "metadata": {},
     "output_type": "display_data"
    }
   ],
   "source": [
    "# Set the style for the plot\n",
    "sns.set_style('whitegrid')\n",
    "\n",
    "# Create the bar plot\n",
    "plt.figure(figsize=(16, 6))\n",
    "sns.barplot(x='BODY_STYLE', y='TOTALCOST', data=df, palette='viridis')\n",
    "\n",
    "# Add titles and labels\n",
    "plt.title('Total Repair Cost For Body_Style')\n",
    "plt.xlabel('Body_Style')\n",
    "plt.ylabel('Total Repair Cost')\n",
    "\n",
    "# Show the plot\n",
    "plt.show()"
   ]
  },
  {
   "cell_type": "code",
   "execution_count": null,
   "id": "b50fd771-92a2-4a8e-b8d0-b090aaeb0534",
   "metadata": {},
   "outputs": [],
   "source": []
  },
  {
   "cell_type": "code",
   "execution_count": 46,
   "id": "ebb54d65-a4cb-4d7e-8448-3f5057b94ab6",
   "metadata": {},
   "outputs": [
    {
     "name": "stderr",
     "output_type": "stream",
     "text": [
      "C:\\Users\\SAIKAT\\AppData\\Local\\Temp\\ipykernel_12008\\2716808450.py:6: FutureWarning: \n",
      "\n",
      "Passing `palette` without assigning `hue` is deprecated and will be removed in v0.14.0. Assign the `x` variable to `hue` and set `legend=False` for the same effect.\n",
      "\n",
      "  sns.barplot(x='ENGINE', y='TOTALCOST', data=df, palette='viridis')\n"
     ]
    },
    {
     "data": {
      "image/png": "[encoded data removed]",
      "text/plain": [
       "<Figure size 1600x600 with 1 Axes>"
      ]
     },
     "metadata": {},
     "output_type": "display_data"
    }
   ],
   "source": [
    "# Set the style for the plot\n",
    "sns.set_style('whitegrid')\n",
    "\n",
    "# Create the bar plot\n",
    "plt.figure(figsize=(16, 6))\n",
    "sns.barplot(x='ENGINE', y='TOTALCOST', data=df, palette='viridis')\n",
    "\n",
    "# Add titles and labels\n",
    "plt.title('Total Repair Cost For each Engine')\n",
    "plt.xlabel('Engine')\n",
    "plt.ylabel('Total Repair Cost')\n",
    "\n",
    "# Show the plot\n",
    "plt.show()"
   ]
  },
  {
   "cell_type": "code",
   "execution_count": null,
   "id": "d8fd3d13-52e5-42e2-8f2f-2ff08b42364c",
   "metadata": {},
   "outputs": [],
   "source": [
    "#### Here L87, LGX and LM2 Engine model takes high repair cost."
   ]
  },
  {
   "cell_type": "code",
   "execution_count": 45,
   "id": "e687a11f-ee6b-4f40-aac5-91127ca9999a",
   "metadata": {},
   "outputs": [
    {
     "data": {
      "image/png": "[encoded data removed]",
      "text/plain": [
       "<Figure size 1600x600 with 1 Axes>"
      ]
     },
     "metadata": {},
     "output_type": "display_data"
    }
   ],
   "source": [
    "# Set the style for the plot\n",
    "sns.set_style('whitegrid')\n",
    "\n",
    "# Create the bar plot\n",
    "plt.figure(figsize=(16, 6))\n",
    "sns.countplot(data=df,x=\"PLATFORM\")\n",
    "\n",
    "# Add titles and labels\n",
    "plt.title('Veichle Model Distribution')\n",
    "plt.xlabel('Model')\n",
    "plt.ylabel('Count of Model')\n",
    "\n",
    "# Show the plot\n",
    "plt.show()"
   ]
  },
  {
   "cell_type": "markdown",
   "id": "2c19ff0e-b304-4a42-bcfb-c927c172253d",
   "metadata": {},
   "source": [
    "##### See here Full-Size Trucks have the highest numbers, It take maximum cost to repair."
   ]
  },
  {
   "cell_type": "code",
   "execution_count": null,
   "id": "4a6b2ed4-b977-4521-b20a-77cd00a9a8d0",
   "metadata": {},
   "outputs": [],
   "source": []
  }
 ],
 "metadata": {
  "kernelspec": {
   "display_name": "Python 3 (ipykernel)",
   "language": "python",
   "name": "python3"
  },
  "language_info": {
   "codemirror_mode": {
    "name": "ipython",
    "version": 3
   },
   "file_extension": ".py",
   "mimetype": "text/x-python",
   "name": "python",
   "nbconvert_exporter": "python",
   "pygments_lexer": "ipython3",
   "version": "3.12.4"
  }
 },
 "nbformat": 4,
 "nbformat_minor": 5
}
